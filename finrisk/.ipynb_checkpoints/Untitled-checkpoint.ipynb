{
 "cells": [
  {
   "cell_type": "code",
   "execution_count": 1,
   "metadata": {},
   "outputs": [],
   "source": [
    "import pandas as pd"
   ]
  },
  {
   "cell_type": "code",
   "execution_count": 16,
   "metadata": {},
   "outputs": [],
   "source": [
    "df = pd.read_excel(\"DataLab2Student.xlsx\", header=3, usecols=[10, 11, 12, 13], nrows=5)"
   ]
  },
  {
   "cell_type": "code",
   "execution_count": 20,
   "metadata": {},
   "outputs": [
    {
     "name": "stdout",
     "output_type": "stream",
     "text": [
      "\\begin{tabular}{llrll}\n",
      "\\toprule\n",
      "{} &      Model &  Z (test stat.) & Accept/Reject & Result ES traffic light system \\\\\n",
      "\\midrule\n",
      "\\textbf{0} &       ES-N &       -1.742215 &        Reject &                         Yellow \\\\\n",
      "\\textbf{1} &  ES\\_N\\_EWMA &       -0.727824 &        Reject &                         Yellow \\\\\n",
      "\\textbf{2} &       ES-t &       -1.203534 &        Reject &                         Yellow \\\\\n",
      "\\textbf{3} &  ES-t-EWMA &       -0.628559 &        Accept &                          Green \\\\\n",
      "\\textbf{4} &     ES-BHS &       -1.000707 &        Reject &                         Yellow \\\\\n",
      "\\bottomrule\n",
      "\\end{tabular}\n",
      "\n"
     ]
    }
   ],
   "source": [
    "print(df.to_latex(bold_rows=True, index=False))"
   ]
  },
  {
   "cell_type": "code",
   "execution_count": null,
   "metadata": {},
   "outputs": [],
   "source": [
    "df = pd.read_excel(\"DataLab2Student.xlsx\", header=3, usecols=[10, 11, 12, 13], nrows=5)"
   ]
  }
 ],
 "metadata": {
  "kernelspec": {
   "display_name": "Python 3",
   "language": "python",
   "name": "python3"
  },
  "language_info": {
   "codemirror_mode": {
    "name": "ipython",
    "version": 3
   },
   "file_extension": ".py",
   "mimetype": "text/x-python",
   "name": "python",
   "nbconvert_exporter": "python",
   "pygments_lexer": "ipython3",
   "version": "3.7.3"
  }
 },
 "nbformat": 4,
 "nbformat_minor": 2
}
