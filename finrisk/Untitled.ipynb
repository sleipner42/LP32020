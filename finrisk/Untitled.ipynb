{
 "cells": [
  {
   "cell_type": "code",
   "execution_count": 1,
   "metadata": {},
   "outputs": [],
   "source": [
    "import pandas as pd"
   ]
  },
  {
   "cell_type": "code",
   "execution_count": 16,
   "metadata": {},
   "outputs": [],
   "source": [
    "df = pd.read_excel(\"DataLab2Student.xlsx\", header=3, usecols=[10, 11, 12, 13], nrows=5)\n",
    "print(df.to_latex(bold_rows=True, index=False))"
   ]
  },
  {
   "cell_type": "code",
   "execution_count": 24,
   "metadata": {},
   "outputs": [
    {
     "name": "stdout",
     "output_type": "stream",
     "text": [
      "\\begin{tabular}{lrll}\n",
      "\\toprule\n",
      "     Model &  Z (test stat.) & Accept/Reject & Result ES traffic light system \\\\\n",
      "\\midrule\n",
      "      ES-N &       -1.742215 &        Reject &                         Yellow \\\\\n",
      " ES\\_N\\_EWMA &       -0.727824 &        Reject &                         Yellow \\\\\n",
      "      ES-t &       -1.203534 &        Reject &                         Yellow \\\\\n",
      " ES-t-EWMA &       -0.628559 &        Accept &                          Green \\\\\n",
      "    ES-BHS &       -1.000707 &        Reject &                         Yellow \\\\\n",
      "\\bottomrule\n",
      "\\end{tabular}\n",
      "\n"
     ]
    }
   ],
   "source": []
  },
  {
   "cell_type": "code",
   "execution_count": 29,
   "metadata": {},
   "outputs": [
    {
     "name": "stdout",
     "output_type": "stream",
     "text": [
      "\\begin{tabular}{lrl}\n",
      "\\toprule\n",
      "      Model &  Number over VaR & Results VaR traffic light system \\\\\n",
      "\\midrule\n",
      "      VaR-N &               14 &                           Yellow \\\\\n",
      " VaR-N-EWMA &                9 &                            Green \\\\\n",
      "      VaR-t &               11 &                           Yellow \\\\\n",
      " VaR-t-EWMA &                9 &                            Green \\\\\n",
      "    VaR-BHS &               11 &                           Yellow \\\\\n",
      "\\bottomrule\n",
      "\\end{tabular}\n",
      "\n"
     ]
    }
   ],
   "source": [
    "df = pd.read_excel(\"DataLab2Student.xlsx\", header=3, usecols=\"U, V, W\", nrows=5, names= [\"Model\", \"Number over VaR\", \"Results VaR traffic light system\"])\n",
    "print(df.to_latex(bold_rows=True, index=False))"
   ]
  },
  {
   "cell_type": "code",
   "execution_count": 30,
   "metadata": {},
   "outputs": [
    {
     "data": {
      "text/html": [
       "<div>\n",
       "<style scoped>\n",
       "    .dataframe tbody tr th:only-of-type {\n",
       "        vertical-align: middle;\n",
       "    }\n",
       "\n",
       "    .dataframe tbody tr th {\n",
       "        vertical-align: top;\n",
       "    }\n",
       "\n",
       "    .dataframe thead th {\n",
       "        text-align: right;\n",
       "    }\n",
       "</style>\n",
       "<table border=\"1\" class=\"dataframe\">\n",
       "  <thead>\n",
       "    <tr style=\"text-align: right;\">\n",
       "      <th></th>\n",
       "      <th>Model</th>\n",
       "      <th>Number over VaR</th>\n",
       "      <th>Results VaR traffic light system</th>\n",
       "    </tr>\n",
       "  </thead>\n",
       "  <tbody>\n",
       "    <tr>\n",
       "      <td>0</td>\n",
       "      <td>VaR-N</td>\n",
       "      <td>14</td>\n",
       "      <td>Yellow</td>\n",
       "    </tr>\n",
       "    <tr>\n",
       "      <td>1</td>\n",
       "      <td>VaR-N-EWMA</td>\n",
       "      <td>9</td>\n",
       "      <td>Green</td>\n",
       "    </tr>\n",
       "    <tr>\n",
       "      <td>2</td>\n",
       "      <td>VaR-t</td>\n",
       "      <td>11</td>\n",
       "      <td>Yellow</td>\n",
       "    </tr>\n",
       "    <tr>\n",
       "      <td>3</td>\n",
       "      <td>VaR-t-EWMA</td>\n",
       "      <td>9</td>\n",
       "      <td>Green</td>\n",
       "    </tr>\n",
       "    <tr>\n",
       "      <td>4</td>\n",
       "      <td>VaR-BHS</td>\n",
       "      <td>11</td>\n",
       "      <td>Yellow</td>\n",
       "    </tr>\n",
       "  </tbody>\n",
       "</table>\n",
       "</div>"
      ],
      "text/plain": [
       "        Model  Number over VaR Results VaR traffic light system\n",
       "0       VaR-N               14                           Yellow\n",
       "1  VaR-N-EWMA                9                            Green\n",
       "2       VaR-t               11                           Yellow\n",
       "3  VaR-t-EWMA                9                            Green\n",
       "4     VaR-BHS               11                           Yellow"
      ]
     },
     "execution_count": 30,
     "metadata": {},
     "output_type": "execute_result"
    }
   ],
   "source": [
    "df"
   ]
  },
  {
   "cell_type": "code",
   "execution_count": null,
   "metadata": {},
   "outputs": [],
   "source": []
  }
 ],
 "metadata": {
  "kernelspec": {
   "display_name": "Python 3",
   "language": "python",
   "name": "python3"
  },
  "language_info": {
   "codemirror_mode": {
    "name": "ipython",
    "version": 3
   },
   "file_extension": ".py",
   "mimetype": "text/x-python",
   "name": "python",
   "nbconvert_exporter": "python",
   "pygments_lexer": "ipython3",
   "version": "3.7.3"
  }
 },
 "nbformat": 4,
 "nbformat_minor": 2
}
