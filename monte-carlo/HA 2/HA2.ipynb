{
 "cells": [
  {
   "cell_type": "code",
   "execution_count": 241,
   "metadata": {},
   "outputs": [],
   "source": [
    "import pandas as pd\n",
    "import numpy as np\n",
    "import math\n",
    "from scipy.stats import describe, randint\n",
    "from scipy.interpolate import interp1d\n",
    "import plotly.graph_objects as go\n",
    "import os\n",
    "import matplotlib.pyplot as plt\n",
    "from mpl_toolkits import mplot3d\n",
    "import seaborn as sns\n",
    "\n",
    "\n",
    "sns.set()\n",
    "\n",
    "\n",
    "# Methods for exporting tables and images to latex\n",
    "def saveimg(filename, fig):\n",
    "    file_path = os.path.join(os.getcwd(), 'images')\n",
    "    os.makedirs(file_path, exist_ok=True)\n",
    "    fig.savefig(os.path.join(file_path, filename))\n",
    "    \n",
    "def savetable(filename, df):\n",
    "    file_path = os.path.join(os.getcwd(), 'tables')\n",
    "    os.makedirs(file_path, exist_ok=True)\n",
    "    pd.DataFrame(df).to_latex(os.path.join(file_path, filename),escape = False, index = False)"
   ]
  },
  {
   "cell_type": "markdown",
   "metadata": {},
   "source": [
    "# 3."
   ]
  },
  {
   "cell_type": "code",
   "execution_count": 602,
   "metadata": {},
   "outputs": [],
   "source": [
    "def random_neighbour(point):\n",
    "\n",
    "    # Getting dimension\n",
    "    dimension = len(point)\n",
    "    \n",
    "    # Generate if going up or down\n",
    "    up_or_down = 2*np.random.randint(2, size=1)[0] - 1\n",
    "    \n",
    "    # Generate which diretion to go in\n",
    "    direction = np.random.randint(dimension, size=1)[0]\n",
    "    \n",
    "    # Create new point\n",
    "    new_point = point.copy()\n",
    "    new_point[direction]+= up_or_down\n",
    "    \n",
    "    return new_point\n",
    "\n",
    "def is_self_avoiding(random_walks, weights):\n",
    "    \n",
    "    is_saw = lambda x: 1 if(weights != 0 and len(np.unique(x, axis=0)) == len(x)) else 0\n",
    "\n",
    "    l = len(random_walks[0])\n",
    "    array_of_saw = [0] * l\n",
    "    for index in range(l):\n",
    "        particle = [item[index] for item in random_walks]\n",
    "        array_of_saw[index] = is_saw(particle)\n",
    "    return array_of_saw      \n",
    "\n",
    "def init_walk (d, k, N):\n",
    "    random_walks = []\n",
    "    weights = [[1] * N]\n",
    "    pos = [[0]*d]*N\n",
    "    random_walks.append(pos)\n",
    "    for step in range(k):\n",
    "        step_all = list(map(random_neighbour, random_walks[step]))\n",
    "        random_walks.append(step_all)\n",
    "        weights.append(is_self_avoiding(random_walks, weights[step]))\n",
    "        print(step)\n",
    "    return random_walks, weights"
   ]
  },
  {
   "cell_type": "code",
   "execution_count": 603,
   "metadata": {},
   "outputs": [
    {
     "name": "stdout",
     "output_type": "stream",
     "text": [
      "0\n",
      "1\n",
      "2\n",
      "3\n",
      "4\n",
      "5\n",
      "6\n",
      "7\n",
      "8\n",
      "9\n",
      "10\n",
      "11\n",
      "12\n",
      "13\n",
      "14\n",
      "15\n",
      "16\n",
      "17\n",
      "18\n",
      "19\n",
      "20\n",
      "21\n",
      "22\n",
      "23\n",
      "24\n",
      "25\n",
      "26\n",
      "27\n",
      "28\n",
      "29\n",
      "30\n",
      "31\n",
      "32\n",
      "33\n",
      "34\n",
      "35\n",
      "36\n",
      "37\n",
      "38\n",
      "39\n",
      "40\n",
      "41\n",
      "42\n",
      "43\n",
      "44\n",
      "45\n",
      "46\n",
      "47\n",
      "48\n",
      "49\n"
     ]
    }
   ],
   "source": [
    "walks, weights = init_walk(2,50,50000)"
   ]
  },
  {
   "cell_type": "code",
   "execution_count": 604,
   "metadata": {},
   "outputs": [],
   "source": [
    "prob = []\n",
    "for row in weights:\n",
    "    prob.append(np.mean(row))"
   ]
  },
  {
   "cell_type": "code",
   "execution_count": 605,
   "metadata": {},
   "outputs": [
    {
     "data": {
      "text/plain": [
       "[<matplotlib.lines.Line2D at 0x1e7c2f572b0>]"
      ]
     },
     "execution_count": 605,
     "metadata": {},
     "output_type": "execute_result"
    },
    {
     "data": {
      "image/png": "[encoded data removed]",
      "text/plain": [
       "<Figure size 432x288 with 1 Axes>"
      ]
     },
     "metadata": {},
     "output_type": "display_data"
    }
   ],
   "source": [
    "plt.plot(range(len(weights)), prob)"
   ]
  },
  {
   "cell_type": "code",
   "execution_count": null,
   "metadata": {},
   "outputs": [],
   "source": []
  },
  {
   "cell_type": "code",
   "execution_count": null,
   "metadata": {},
   "outputs": [],
   "source": []
  }
 ],
 "metadata": {
  "kernelspec": {
   "display_name": "Python 3.8.1 64-bit",
   "language": "python",
   "name": "python38164bit45d99a14a29047d0bd4fa12fbfa465d1"
  },
  "language_info": {
   "codemirror_mode": {
    "name": "ipython",
    "version": 3
   },
   "file_extension": ".py",
   "mimetype": "text/x-python",
   "name": "python",
   "nbconvert_exporter": "python",
   "pygments_lexer": "ipython3",
   "version": "3.8.1"
  }
 },
 "nbformat": 4,
 "nbformat_minor": 4
}
