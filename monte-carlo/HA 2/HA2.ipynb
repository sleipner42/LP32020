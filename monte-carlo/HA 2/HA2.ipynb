{
 "cells": [
  {
   "cell_type": "code",
   "execution_count": 50,
   "metadata": {},
   "outputs": [],
   "source": [
    "import pandas as pd\n",
    "import numpy as np\n",
    "import math\n",
    "from scipy.stats import describe, randint\n",
    "from scipy.interpolate import interp1d\n",
    "import plotly.graph_objects as go\n",
    "import os\n",
    "import matplotlib.pyplot as plt\n",
    "from mpl_toolkits import mplot3d\n",
    "import seaborn as sns\n",
    "import scipy.sparse\n",
    "\n",
    "sns.set()\n",
    "\n",
    "# Methods for exporting tables and images to latex\n",
    "def saveimg(filename, fig):\n",
    "    file_path = os.path.join(os.getcwd(), 'images')\n",
    "    os.makedirs(file_path, exist_ok=True)\n",
    "    fig.savefig(os.path.join(file_path, filename))\n",
    "    \n",
    "def savetable(filename, df):\n",
    "    file_path = os.path.join(os.getcwd(), 'tables')\n",
    "    os.makedirs(file_path, exist_ok=True)\n",
    "    pd.DataFrame(df).to_latex(os.path.join(file_path, filename),escape = False, index = False)"
   ]
  },
  {
   "cell_type": "markdown",
   "metadata": {},
   "source": [
    "# 3."
   ]
  },
  {
   "cell_type": "code",
   "execution_count": 261,
   "metadata": {},
   "outputs": [],
   "source": [
    "def random_neighbour(points):\n",
    "\n",
    "    # Getting dimensions of points\n",
    "    dimension = np.shape(points)\n",
    "    \n",
    "    # Generate if going up or down, do this for all points\n",
    "    up_or_down = 2*np.random.randint(2, size=dimension[0]) - 1\n",
    "    \n",
    "    # Generate which diretion to go in for all points\n",
    "    direction = np.random.randint(dimension[1], size=dimension[0])\n",
    "    \n",
    "    # Create new matrix, create a binary matrix of the direction\n",
    "    indptr = range(len(direction)+1)\n",
    "    data = np.ones(len(direction))\n",
    "    points_to_change = scipy.sparse.csr_matrix((data, direction, indptr)).toarray()\n",
    "    \n",
    "    # Add the binary matrix multiplied by direction to the old points\n",
    "    new_points = points + (points_to_change.T*up_or_down).T\n",
    "    \n",
    "    return new_points\n",
    "\n",
    "def is_self_avoiding(random_walk):\n",
    "    return int(len(np.unique(random_walk, axis=0)) == len(random_walk))\n",
    "\n",
    "def generate_weights(random_walks, weights):\n",
    "    \n",
    "    # Get indexes where weights is different from zero\n",
    "    indexes = np.nonzero(weights)[0]\n",
    "    \n",
    "    # Create new weights\n",
    "    new_weights = np.zeros(len(weights))\n",
    "    \n",
    "    # Start by swapping axis i and k so it is possible to iterate over all random walks\n",
    "    random_walks_list = np.swapaxes(random_walks, 0, 1)\n",
    "    \n",
    "    # Looping over wieghts different from zero\n",
    "    for index in indexes:\n",
    "        new_weights[index] = is_self_avoiding(random_walks_list[index])\n",
    "        \n",
    "    return new_weights      \n",
    "\n",
    "def init_walk (d, k, N):\n",
    "    \n",
    "    # The random_walk array has the following structure compared \n",
    "    # to the lecture notes random_walk[k][i][d], where:\n",
    "    # k = step number k\n",
    "    # i = simulation number\n",
    "    # d = dimension \n",
    "    \n",
    "    random_walks = []\n",
    "    weights = [[1] * N]\n",
    "    \n",
    "    random_walks.append(np.zeros((N, d)))\n",
    "    \n",
    "    for step in range(k):\n",
    "        step_all = random_neighbour(random_walks[step])\n",
    "        random_walks.append(step_all)\n",
    "        weights.append(generate_weights(random_walks, weights[step]))\n",
    "        print(step)\n",
    "        \n",
    "    return random_walks, weights"
   ]
  },
  {
   "cell_type": "code",
   "execution_count": 258,
   "metadata": {},
   "outputs": [
    {
     "name": "stdout",
     "output_type": "stream",
     "text": [
      "0\n",
      "1\n",
      "2\n",
      "3\n",
      "4\n",
      "5\n",
      "6\n",
      "7\n",
      "8\n",
      "9\n",
      "10\n",
      "11\n",
      "12\n",
      "13\n",
      "14\n",
      "15\n",
      "16\n",
      "17\n",
      "18\n",
      "19\n",
      "20\n",
      "21\n",
      "22\n",
      "23\n",
      "24\n",
      "25\n",
      "26\n",
      "27\n",
      "28\n",
      "29\n",
      "30\n",
      "31\n",
      "32\n",
      "33\n",
      "34\n",
      "35\n",
      "36\n",
      "37\n",
      "38\n",
      "39\n",
      "40\n",
      "41\n",
      "42\n",
      "43\n",
      "44\n",
      "45\n",
      "46\n",
      "47\n",
      "48\n",
      "49\n"
     ]
    }
   ],
   "source": [
    "walks, weights = init_walk(2,50,10**5)"
   ]
  },
  {
   "cell_type": "code",
   "execution_count": 259,
   "metadata": {},
   "outputs": [],
   "source": [
    "prob = []\n",
    "for row in weights:\n",
    "    prob.append(np.mean(row))"
   ]
  },
  {
   "cell_type": "code",
   "execution_count": 260,
   "metadata": {},
   "outputs": [
    {
     "data": {
      "text/plain": [
       "[<matplotlib.lines.Line2D at 0x7f5c1e85aa58>]"
      ]
     },
     "execution_count": 260,
     "metadata": {},
     "output_type": "execute_result"
    },
    {
     "data": {
      "image/png": "[encoded data removed]",
      "text/plain": [
       "<Figure size 432x288 with 1 Axes>"
      ]
     },
     "metadata": {},
     "output_type": "display_data"
    }
   ],
   "source": [
    "plt.plot(range(len(weights)), prob)"
   ]
  },
  {
   "cell_type": "code",
   "execution_count": null,
   "metadata": {},
   "outputs": [],
   "source": []
  },
  {
   "cell_type": "code",
   "execution_count": null,
   "metadata": {},
   "outputs": [],
   "source": []
  },
  {
   "cell_type": "code",
   "execution_count": null,
   "metadata": {},
   "outputs": [],
   "source": []
  },
  {
   "cell_type": "code",
   "execution_count": null,
   "metadata": {},
   "outputs": [],
   "source": []
  },
  {
   "cell_type": "code",
   "execution_count": null,
   "metadata": {},
   "outputs": [],
   "source": []
  }
 ],
 "metadata": {
  "kernelspec": {
   "display_name": "Python 3",
   "language": "python",
   "name": "python3"
  },
  "language_info": {
   "codemirror_mode": {
    "name": "ipython",
    "version": 3
   },
   "file_extension": ".py",
   "mimetype": "text/x-python",
   "name": "python",
   "nbconvert_exporter": "python",
   "pygments_lexer": "ipython3",
   "version": "3.7.3"
  }
 },
 "nbformat": 4,
 "nbformat_minor": 4
}
