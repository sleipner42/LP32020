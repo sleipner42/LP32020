{
 "cells": [
  {
   "cell_type": "code",
   "execution_count": 328,
   "metadata": {},
   "outputs": [],
   "source": [
    "import pandas as pd\n",
    "import numpy as np\n",
    "import math\n",
    "from scipy.stats import describe, randint\n",
    "from scipy.interpolate import interp1d\n",
    "import plotly.graph_objects as go\n",
    "import os\n",
    "import matplotlib.pyplot as plt\n",
    "from mpl_toolkits import mplot3d\n",
    "import seaborn as sns\n",
    "import scipy.sparse\n",
    "from scipy.optimize import least_squares\n",
    "from sklearn.linear_model import LinearRegression\n",
    "\n",
    "sns.set()\n",
    "\n",
    "# Methods for exporting tables and images to latex\n",
    "def saveimg(filename, fig):\n",
    "    file_path = os.path.join(os.getcwd(), 'images')\n",
    "    os.makedirs(file_path, exist_ok=True)\n",
    "    fig.savefig(os.path.join(file_path, filename))\n",
    "    \n",
    "def savetable(filename, df):\n",
    "    file_path = os.path.join(os.getcwd(), 'tables')\n",
    "    os.makedirs(file_path, exist_ok=True)\n",
    "    pd.DataFrame(df).to_latex(os.path.join(file_path, filename),escape = False, index = False)\n",
    "    \n",
    "val = [1,4,12,36,100,284,780,2172,5916,16268,44100,120292,324932,881500,2374444,6416596,17245332,46466676,124658732,335116620,897697164,2408806028,6444560484,17266613812,46146397316,123481354908,329712786220,881317491628]"
   ]
  },
  {
   "cell_type": "markdown",
   "metadata": {},
   "source": [
    "# 3."
   ]
  },
  {
   "cell_type": "code",
   "execution_count": 421,
   "metadata": {},
   "outputs": [],
   "source": [
    "def random_neighbour(points):\n",
    "\n",
    "    # Getting dimensions of points\n",
    "    dimension = np.shape(points)\n",
    "    \n",
    "    # Generate if going up or down, do this for all points\n",
    "    up_or_down = 2*np.random.randint(2, size=dimension[0]) - 1\n",
    "    \n",
    "    # Generate which diretion to go in for all points\n",
    "    direction = np.random.randint(dimension[1], size=dimension[0])\n",
    "    \n",
    "    # Create new matrix, create a binary matrix of the direction\n",
    "    indptr = range(len(direction)+1)\n",
    "    data = np.ones(len(direction))\n",
    "    points_to_change = scipy.sparse.csr_matrix((data, direction, indptr)).toarray()\n",
    "    \n",
    "    # Add the binary matrix multiplied by direction to the old points\n",
    "    new_points = points + (points_to_change.T*up_or_down).T\n",
    "    \n",
    "    # Generating probabilities\n",
    "    probabilities = np.ones(dimension[0])*1/(dimension[1]*2)\n",
    "    \n",
    "    return new_points, probabilities\n",
    "\n",
    "def random_neighbour_avoiding(random_walks):\n",
    "    \n",
    "    # Start by swapping axis i and k so it is possible to iterate over all random walks\n",
    "    random_walks_list = np.swapaxes(random_walks, 0, 1)\n",
    "    \n",
    "    new_points = []\n",
    "    probabilities = []\n",
    "    \n",
    "    # Iterate over random walks\n",
    "    for random_walk in random_walks_list:\n",
    "        \n",
    "        random_walk = random_walk.tolist()\n",
    "        \n",
    "        last_point = random_walk[-1]\n",
    "        viable_points = []\n",
    "        \n",
    "        dimension = np.shape(last_point)[0]\n",
    "        \n",
    "        for n in range(dimension):\n",
    "            \n",
    "            change = np.zeros(dimension)\n",
    "            change[n] = 1\n",
    "            \n",
    "            point_up = last_point - change\n",
    "            point_down = last_point + change\n",
    "            \n",
    "            viable_points.append(list(point_up))\n",
    "            viable_points.append(list(point_down))\n",
    "        \n",
    "        viable_points = list(filter(lambda x: x not in random_walk, viable_points))\n",
    "        length = len(viable_points)\n",
    "                        \n",
    "        if length == 0:\n",
    "            new_points.append(last_point)\n",
    "            probabilities.append(0)\n",
    "        else:   \n",
    "            probabilities.append(1/length)\n",
    "            new_point_index = np.random.randint(length, size=1)[0]\n",
    "            new_points.append(viable_points[new_point_index])\n",
    "        \n",
    "    return new_points, probabilities\n",
    "\n",
    "def is_self_avoiding(random_walk):\n",
    "    return int(len(np.unique(random_walk, axis=0)) == len(random_walk))\n",
    "\n",
    "def generate_weights(random_walks, weights, probabilities, do_resample=False):\n",
    "    \n",
    "    # Get indexes where weights is different from zero\n",
    "    indexes = np.intersect1d(np.nonzero(weights)[0], np.nonzero(probabilities)[0])\n",
    "    \n",
    "    # Create new weights\n",
    "    new_weights = np.zeros(len(weights))\n",
    "    \n",
    "    # Start by swapping axis i and k so it is possible to iterate over all random walks\n",
    "    random_walks_list = np.swapaxes(random_walks, 0, 1)\n",
    "    \n",
    "    # Looping over wieghts different from zero\n",
    "    for index in indexes:\n",
    "        if(do_resample):\n",
    "            new_weights[index] = is_self_avoiding(random_walks_list[index])/probabilities[index]\n",
    "        else:\n",
    "            new_weights[index] = is_self_avoiding(random_walks_list[index])/probabilities[index]*weights[index]\n",
    "        \n",
    "    return new_weights      \n",
    "\n",
    "def resample(random_walks, weights):\n",
    "    \n",
    "    probabilities = weights/np.sum(weights)\n",
    "    random_walks_list = np.swapaxes(random_walks, 0, 1)\n",
    "    \n",
    "    replacement_index = np.random.choice(np.arange(len(random_walks_list)), len(random_walks_list), p = probabilities)\n",
    "    \n",
    "    resamples_random_walks = list(map(lambda x: random_walks_list[x], replacement_index))\n",
    "    \n",
    "    weights = np.ones(len(weights))\n",
    "    \n",
    "    return np.swapaxes(resamples_random_walks, 0, 1).tolist()\n",
    "\n",
    "def init_walk (d, k, N, self_avoiding = False, do_resample = False):\n",
    "    \n",
    "    # The random_walk array has the following structure compared \n",
    "    # to the lecture notes random_walk[k][i][d], where:\n",
    "    # k = step number k\n",
    "    # i = simulation number\n",
    "    # d = dimension \n",
    "    \n",
    "    random_walks = []\n",
    "    weights = [[1] * N]\n",
    "    \n",
    "    random_walks.append(np.zeros((N, d)))\n",
    "    \n",
    "    for step in range(k):\n",
    "                        \n",
    "        if do_resample:\n",
    "            random_walks = resample(random_walks, weights[-1])\n",
    "        \n",
    "        if self_avoiding:\n",
    "            step_all, probabilities = random_neighbour_avoiding(random_walks)\n",
    "        else:\n",
    "            step_all, probabilities = random_neighbour(random_walks[step])\n",
    "            \n",
    "        random_walks.append(step_all)\n",
    "        weights.append(generate_weights(random_walks, weights[step], probabilities, do_resample=do_resample))\n",
    "           \n",
    "            \n",
    "        print(\"-\", end=\"\")\n",
    "        \n",
    "    return random_walks, weights\n",
    "\n",
    "def estimate_parameters(weights, start_index = 1):\n",
    "    \n",
    "    # Calculate mean\n",
    "    cn = np.mean(weights[start_index:], axis=1)\n",
    "    length = len(cn)\n",
    "    \n",
    "    # Finding optimal parameters\n",
    "    y = np.log(cn)\n",
    "    #plt.plot(y)\n",
    "    X = np.hstack((np.ones(length), np.arange(length)+start_index, np.log(np.arange(length)+start_index))).reshape(3,length).T\n",
    "\n",
    "    theta =(np.linalg.inv(X.T@X)@X.T)@y\n",
    "\n",
    "    # adding 1\n",
    "    theta = [np.e**theta[0], np.e**theta[1], theta[2] + 1]\n",
    "    \n",
    "    return theta "
   ]
  },
  {
   "cell_type": "code",
   "execution_count": 395,
   "metadata": {},
   "outputs": [
    {
     "name": "stdout",
     "output_type": "stream",
     "text": [
      "--------------------"
     ]
    }
   ],
   "source": [
    "walks, weights = init_walk(2, 20, 1000, self_avoiding=True, do_resample=True)\n",
    "\n",
    "cn = np.mean(weights, axis=1)"
   ]
  },
  {
   "cell_type": "code",
   "execution_count": 373,
   "metadata": {},
   "outputs": [
    {
     "name": "stdout",
     "output_type": "stream",
     "text": [
      "Dimension: 1\n",
      "--------------------[1.0, 1.0, 1.0]\n",
      "Dimension: 2\n",
      "--------------------[3.0989593294785864, 0.9956297274441137, 0.9569697160078945]\n",
      "Dimension: 3\n",
      "--------------------[4.929935002236777, 0.9997792966505662, 0.987606209312221]\n",
      "Dimension: 4\n",
      "------------"
     ]
    },
    {
     "ename": "KeyboardInterrupt",
     "evalue": "",
     "output_type": "error",
     "traceback": [
      "\u001b[0;31m---------------------------------------------------------------------------\u001b[0m",
      "\u001b[0;31mKeyboardInterrupt\u001b[0m                         Traceback (most recent call last)",
      "\u001b[0;32m<ipython-input-373-5a36e3f4d1ba>\u001b[0m in \u001b[0;36m<module>\u001b[0;34m\u001b[0m\n\u001b[1;32m      1\u001b[0m \u001b[0;32mfor\u001b[0m \u001b[0md\u001b[0m \u001b[0;32min\u001b[0m \u001b[0mrange\u001b[0m\u001b[0;34m(\u001b[0m\u001b[0;36m1\u001b[0m\u001b[0;34m,\u001b[0m\u001b[0;36m10\u001b[0m\u001b[0;34m)\u001b[0m\u001b[0;34m:\u001b[0m\u001b[0;34m\u001b[0m\u001b[0;34m\u001b[0m\u001b[0m\n\u001b[1;32m      2\u001b[0m     \u001b[0mprint\u001b[0m\u001b[0;34m(\u001b[0m\u001b[0;34mf'Dimension: {d}'\u001b[0m\u001b[0;34m)\u001b[0m\u001b[0;34m\u001b[0m\u001b[0;34m\u001b[0m\u001b[0m\n\u001b[0;32m----> 3\u001b[0;31m     \u001b[0mwalks\u001b[0m\u001b[0;34m,\u001b[0m \u001b[0mweights\u001b[0m \u001b[0;34m=\u001b[0m \u001b[0minit_walk\u001b[0m\u001b[0;34m(\u001b[0m\u001b[0md\u001b[0m\u001b[0;34m,\u001b[0m \u001b[0;36m20\u001b[0m\u001b[0;34m,\u001b[0m \u001b[0;36m10\u001b[0m\u001b[0;34m**\u001b[0m\u001b[0;36m3\u001b[0m\u001b[0;34m,\u001b[0m \u001b[0mself_avoiding\u001b[0m\u001b[0;34m=\u001b[0m\u001b[0;32mTrue\u001b[0m\u001b[0;34m,\u001b[0m \u001b[0mdo_resample\u001b[0m\u001b[0;34m=\u001b[0m\u001b[0;32mTrue\u001b[0m\u001b[0;34m)\u001b[0m\u001b[0;34m\u001b[0m\u001b[0;34m\u001b[0m\u001b[0m\n\u001b[0m\u001b[1;32m      4\u001b[0m     \u001b[0mprint\u001b[0m\u001b[0;34m(\u001b[0m\u001b[0mestimate_parameters\u001b[0m\u001b[0;34m(\u001b[0m\u001b[0mweights\u001b[0m\u001b[0;34m,\u001b[0m \u001b[0mstart_index\u001b[0m \u001b[0;34m=\u001b[0m \u001b[0;36m5\u001b[0m\u001b[0;34m)\u001b[0m\u001b[0;34m)\u001b[0m\u001b[0;34m\u001b[0m\u001b[0;34m\u001b[0m\u001b[0m\n",
      "\u001b[0;32m<ipython-input-367-5ff3d9b139af>\u001b[0m in \u001b[0;36minit_walk\u001b[0;34m(d, k, N, self_avoiding, do_resample)\u001b[0m\n\u001b[1;32m    120\u001b[0m \u001b[0;34m\u001b[0m\u001b[0m\n\u001b[1;32m    121\u001b[0m         \u001b[0;32mif\u001b[0m \u001b[0mself_avoiding\u001b[0m\u001b[0;34m:\u001b[0m\u001b[0;34m\u001b[0m\u001b[0;34m\u001b[0m\u001b[0m\n\u001b[0;32m--> 122\u001b[0;31m             \u001b[0mstep_all\u001b[0m\u001b[0;34m,\u001b[0m \u001b[0mprobabilities\u001b[0m \u001b[0;34m=\u001b[0m \u001b[0mrandom_neighbour_avoiding\u001b[0m\u001b[0;34m(\u001b[0m\u001b[0mrandom_walks\u001b[0m\u001b[0;34m)\u001b[0m\u001b[0;34m\u001b[0m\u001b[0;34m\u001b[0m\u001b[0m\n\u001b[0m\u001b[1;32m    123\u001b[0m         \u001b[0;32melse\u001b[0m\u001b[0;34m:\u001b[0m\u001b[0;34m\u001b[0m\u001b[0;34m\u001b[0m\u001b[0m\n\u001b[1;32m    124\u001b[0m             \u001b[0mstep_all\u001b[0m\u001b[0;34m,\u001b[0m \u001b[0mprobabilities\u001b[0m \u001b[0;34m=\u001b[0m \u001b[0mrandom_neighbour\u001b[0m\u001b[0;34m(\u001b[0m\u001b[0mrandom_walks\u001b[0m\u001b[0;34m[\u001b[0m\u001b[0mstep\u001b[0m\u001b[0;34m]\u001b[0m\u001b[0;34m)\u001b[0m\u001b[0;34m\u001b[0m\u001b[0;34m\u001b[0m\u001b[0m\n",
      "\u001b[0;32m<ipython-input-367-5ff3d9b139af>\u001b[0m in \u001b[0;36mrandom_neighbour_avoiding\u001b[0;34m(random_walks)\u001b[0m\n\u001b[1;32m     52\u001b[0m             \u001b[0mviable_points\u001b[0m\u001b[0;34m.\u001b[0m\u001b[0mappend\u001b[0m\u001b[0;34m(\u001b[0m\u001b[0mlist\u001b[0m\u001b[0;34m(\u001b[0m\u001b[0mpoint_down\u001b[0m\u001b[0;34m)\u001b[0m\u001b[0;34m)\u001b[0m\u001b[0;34m\u001b[0m\u001b[0;34m\u001b[0m\u001b[0m\n\u001b[1;32m     53\u001b[0m \u001b[0;34m\u001b[0m\u001b[0m\n\u001b[0;32m---> 54\u001b[0;31m         \u001b[0mviable_points\u001b[0m \u001b[0;34m=\u001b[0m \u001b[0mlist\u001b[0m\u001b[0;34m(\u001b[0m\u001b[0mfilter\u001b[0m\u001b[0;34m(\u001b[0m\u001b[0;32mlambda\u001b[0m \u001b[0mx\u001b[0m\u001b[0;34m:\u001b[0m \u001b[0mx\u001b[0m \u001b[0;32mnot\u001b[0m \u001b[0;32min\u001b[0m \u001b[0mrandom_walk\u001b[0m\u001b[0;34m,\u001b[0m \u001b[0mviable_points\u001b[0m\u001b[0;34m)\u001b[0m\u001b[0;34m)\u001b[0m\u001b[0;34m\u001b[0m\u001b[0;34m\u001b[0m\u001b[0m\n\u001b[0m\u001b[1;32m     55\u001b[0m         \u001b[0mlength\u001b[0m \u001b[0;34m=\u001b[0m \u001b[0mlen\u001b[0m\u001b[0;34m(\u001b[0m\u001b[0mviable_points\u001b[0m\u001b[0;34m)\u001b[0m\u001b[0;34m\u001b[0m\u001b[0;34m\u001b[0m\u001b[0m\n\u001b[1;32m     56\u001b[0m \u001b[0;34m\u001b[0m\u001b[0m\n",
      "\u001b[0;32m<ipython-input-367-5ff3d9b139af>\u001b[0m in \u001b[0;36m<lambda>\u001b[0;34m(x)\u001b[0m\n\u001b[1;32m     52\u001b[0m             \u001b[0mviable_points\u001b[0m\u001b[0;34m.\u001b[0m\u001b[0mappend\u001b[0m\u001b[0;34m(\u001b[0m\u001b[0mlist\u001b[0m\u001b[0;34m(\u001b[0m\u001b[0mpoint_down\u001b[0m\u001b[0;34m)\u001b[0m\u001b[0;34m)\u001b[0m\u001b[0;34m\u001b[0m\u001b[0;34m\u001b[0m\u001b[0m\n\u001b[1;32m     53\u001b[0m \u001b[0;34m\u001b[0m\u001b[0m\n\u001b[0;32m---> 54\u001b[0;31m         \u001b[0mviable_points\u001b[0m \u001b[0;34m=\u001b[0m \u001b[0mlist\u001b[0m\u001b[0;34m(\u001b[0m\u001b[0mfilter\u001b[0m\u001b[0;34m(\u001b[0m\u001b[0;32mlambda\u001b[0m \u001b[0mx\u001b[0m\u001b[0;34m:\u001b[0m \u001b[0mx\u001b[0m \u001b[0;32mnot\u001b[0m \u001b[0;32min\u001b[0m \u001b[0mrandom_walk\u001b[0m\u001b[0;34m,\u001b[0m \u001b[0mviable_points\u001b[0m\u001b[0;34m)\u001b[0m\u001b[0;34m)\u001b[0m\u001b[0;34m\u001b[0m\u001b[0;34m\u001b[0m\u001b[0m\n\u001b[0m\u001b[1;32m     55\u001b[0m         \u001b[0mlength\u001b[0m \u001b[0;34m=\u001b[0m \u001b[0mlen\u001b[0m\u001b[0;34m(\u001b[0m\u001b[0mviable_points\u001b[0m\u001b[0;34m)\u001b[0m\u001b[0;34m\u001b[0m\u001b[0;34m\u001b[0m\u001b[0m\n\u001b[1;32m     56\u001b[0m \u001b[0;34m\u001b[0m\u001b[0m\n",
      "\u001b[0;31mKeyboardInterrupt\u001b[0m: "
     ]
    },
    {
     "data": {
      "image/png": "[encoded data removed]",
      "text/plain": [
       "<Figure size 432x288 with 1 Axes>"
      ]
     },
     "metadata": {},
     "output_type": "display_data"
    }
   ],
   "source": [
    "for d in range(1,10):\n",
    "    print(f'Dimension: {d}')\n",
    "    walks, weights = init_walk(d, 20, 10**3, self_avoiding=True, do_resample=True)\n",
    "    print(estimate_parameters(weights, start_index = 5))"
   ]
  },
  {
   "cell_type": "code",
   "execution_count": null,
   "metadata": {},
   "outputs": [],
   "source": [
    "walks, weights = init_walk(2, 20, 10**4, self_avoiding=True, do_resample=True)\n",
    "\n",
    "print(estimate_parameters(weights))\n",
    "cn = np.mean(weights, axis = 1)\n",
    "cn = np.cumprod(cn)\n",
    "plt.plot(cn - val[:21]/val[:21]*100)\n",
    "\n"
   ]
  },
  {
   "cell_type": "code",
   "execution_count": 430,
   "metadata": {},
   "outputs": [
    {
     "data": {
      "text/plain": [
       "array([1.00000000e+00, 4.00000000e+00, 1.20000000e+01, 3.60000000e+01,\n",
       "       9.98640000e+01, 2.84312808e+02, 7.79585720e+02, 2.16179120e+03,\n",
       "       5.88007206e+03, 1.62172388e+04, 4.35595033e+04, 1.17654218e+05,\n",
       "       3.16725156e+05, 8.47239792e+05, 2.20536518e+06, 5.80672652e+06,\n",
       "       1.51787831e+07, 3.92978695e+07, 1.00366759e+08, 2.51017263e+08,\n",
       "       6.17000433e+08])"
      ]
     },
     "execution_count": 430,
     "metadata": {},
     "output_type": "execute_result"
    }
   ],
   "source": []
  },
  {
   "cell_type": "code",
   "execution_count": 416,
   "metadata": {},
   "outputs": [],
   "source": []
  },
  {
   "cell_type": "code",
   "execution_count": 417,
   "metadata": {},
   "outputs": [
    {
     "data": {
      "text/plain": [
       "array([ 0.00000000e+00,  3.00000000e+00,  1.10000000e+01,  3.20000000e+01,\n",
       "        5.20000000e+01, -1.44400000e+03, -1.72407072e+05, -4.92931311e+07,\n",
       "       -3.90488955e+10, -8.74146565e+13, -5.39897593e+17, -9.17337437e+21,\n",
       "       -4.23015896e+26, -5.25120911e+31, -1.71376995e+37, -1.48102953e+43,\n",
       "       -3.37636741e+49, -2.02591663e+56, -3.13140540e+63, -1.25843379e+71,\n",
       "       -1.30732026e+79])"
      ]
     },
     "execution_count": 417,
     "metadata": {},
     "output_type": "execute_result"
    }
   ],
   "source": [
    "np.array(val[:21]) - np.array(cn)"
   ]
  },
  {
   "cell_type": "code",
   "execution_count": 413,
   "metadata": {},
   "outputs": [
    {
     "data": {
      "text/plain": [
       "[1.0,\n",
       " 1.0,\n",
       " 4.0,\n",
       " 12.0,\n",
       " 36.0,\n",
       " 100.22399999999999,\n",
       " 284.63615999999996,\n",
       " 792.1424332799999,\n",
       " 2238.5945164492796,\n",
       " 6176.282270883562,\n",
       " 16990.95252720068,\n",
       " 46113.445158822644,\n",
       " 124137.39436755056,\n",
       " 326357.2097922904,\n",
       " 864193.891529985,\n",
       " 2279743.4858561005,\n",
       " 6000284.854773257,\n",
       " 15456733.78589591,\n",
       " 40187507.84332937,\n",
       " 103884707.77500641,\n",
       " 266568160.15066645]"
      ]
     },
     "execution_count": 413,
     "metadata": {},
     "output_type": "execute_result"
    }
   ],
   "source": [
    "cn"
   ]
  },
  {
   "cell_type": "code",
   "execution_count": null,
   "metadata": {},
   "outputs": [],
   "source": []
  }
 ],
 "metadata": {
  "kernelspec": {
   "display_name": "Python 3",
   "language": "python",
   "name": "python3"
  },
  "language_info": {
   "codemirror_mode": {
    "name": "ipython",
    "version": 3
   },
   "file_extension": ".py",
   "mimetype": "text/x-python",
   "name": "python",
   "nbconvert_exporter": "python",
   "pygments_lexer": "ipython3",
   "version": "3.7.3"
  }
 },
 "nbformat": 4,
 "nbformat_minor": 4
}
