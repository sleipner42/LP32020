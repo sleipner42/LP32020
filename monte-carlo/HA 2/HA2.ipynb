{
 "cells": [
  {
   "cell_type": "code",
   "execution_count": 1,
   "metadata": {},
   "outputs": [],
   "source": [
    "import pandas as pd\n",
    "import numpy as np\n",
    "import math\n",
    "from scipy.stats import describe, randint\n",
    "from scipy.interpolate import interp1d\n",
    "import plotly.graph_objects as go\n",
    "import os\n",
    "import matplotlib.pyplot as plt\n",
    "from mpl_toolkits import mplot3d\n",
    "import seaborn as sns\n",
    "import scipy.sparse\n",
    "from scipy.optimize import least_squares\n",
    "from sklearn.linear_model import LinearRegression\n",
    "\n",
    "sns.set()\n",
    "\n",
    "# Methods for exporting tables and images to latex\n",
    "def saveimg(filename, fig):\n",
    "    file_path = os.path.join(os.getcwd(), 'images')\n",
    "    os.makedirs(file_path, exist_ok=True)\n",
    "    fig.savefig(os.path.join(file_path, filename))\n",
    "    \n",
    "def savetable(filename, df):\n",
    "    file_path = os.path.join(os.getcwd(), 'tables')\n",
    "    os.makedirs(file_path, exist_ok=True)\n",
    "    pd.DataFrame(df).to_latex(os.path.join(file_path, filename),escape = False, index = False)\n",
    "    \n",
    "val = [1,4,12,36,100,284,780,2172,5916,16268,44100,120292,324932,881500,2374444,6416596,17245332,46466676,124658732,335116620,897697164,2408806028,6444560484,17266613812,46146397316,123481354908,329712786220,881317491628]"
   ]
  },
  {
   "cell_type": "markdown",
   "metadata": {},
   "source": [
    "# Methods used in the exercise"
   ]
  },
  {
   "cell_type": "code",
   "execution_count": 2,
   "metadata": {},
   "outputs": [],
   "source": [
    "def random_neighbour(points):\n",
    "\n",
    "    # Getting dimensions of points\n",
    "    dimension = np.shape(points)\n",
    "    \n",
    "    # Generate if going up or down, do this for all points\n",
    "    up_or_down = 2*np.random.randint(2, size=dimension[0]) - 1\n",
    "    \n",
    "    # Generate which diretion to go in for all points\n",
    "    direction = np.random.randint(dimension[1], size=dimension[0])\n",
    "    \n",
    "    # Create new matrix, create a binary matrix of the direction\n",
    "    indptr = range(len(direction)+1)\n",
    "    data = np.ones(len(direction))\n",
    "    points_to_change = scipy.sparse.csr_matrix((data, direction, indptr)).toarray()\n",
    "    \n",
    "    # Add the binary matrix multiplied by direction to the old points\n",
    "    new_points = points + (points_to_change.T*up_or_down).T\n",
    "    \n",
    "    # Generating probabilities\n",
    "    probabilities = np.ones(dimension[0])*1/(dimension[1]*2)\n",
    "    \n",
    "    return new_points, probabilities\n",
    "\n",
    "def random_neighbour_avoiding(random_walks):\n",
    "    \n",
    "    # Start by swapping axis i and k so it is possible to iterate over all random walks\n",
    "    random_walks_list = np.swapaxes(random_walks, 0, 1)\n",
    "    \n",
    "    # Creating lists for new points probabilities\n",
    "    new_points = []\n",
    "    probabilities = []\n",
    "    \n",
    "    # Iterate over random walks\n",
    "    for random_walk in random_walks_list:\n",
    "        \n",
    "        # Making rw to list so it's possible to use 'not in'\n",
    "        random_walk = random_walk.tolist()\n",
    "        last_point = random_walk[-1]\n",
    "        \n",
    "        # Creating list for possible points\n",
    "        viable_points = []\n",
    "        \n",
    "        # Get dimension for last point\n",
    "        dimension = np.shape(last_point)[0]\n",
    "        \n",
    "        # Generate possible neigbours\n",
    "        for n in range(dimension):\n",
    "            \n",
    "            change = np.zeros(dimension)\n",
    "            change[n] = 1\n",
    "            \n",
    "            point_up = last_point - change\n",
    "            point_down = last_point + change\n",
    "            \n",
    "            viable_points.append(list(point_up))\n",
    "            viable_points.append(list(point_down))\n",
    "        \n",
    "        # Sort out points thats already in walk\n",
    "        viable_points = list(filter(lambda x: x not in random_walk, viable_points))\n",
    "        length = len(viable_points)\n",
    "        \n",
    "        # If no points left, append last one\n",
    "        if length == 0:\n",
    "            new_points.append(last_point)\n",
    "            probabilities.append(0)\n",
    "            \n",
    "        # Select on of the remaining points and calculate probability\n",
    "        else:   \n",
    "            probabilities.append(1/length)\n",
    "            new_point_index = np.random.randint(length, size=1)[0]\n",
    "            new_points.append(viable_points[new_point_index])\n",
    "        \n",
    "    return new_points, probabilities\n",
    "\n",
    "def is_self_avoiding(random_walk):\n",
    "    return int(len(np.unique(random_walk, axis=0)) == len(random_walk))\n",
    "\n",
    "def generate_weights(random_walks, weights, probabilities, do_resample=False):\n",
    "        \n",
    "    # Get indexes where probabilities is different from zero\n",
    "    indexes_zero_prob = np.nonzero(probabilities)[0]\n",
    "    \n",
    "    # Get indexes where weights is different from zero\n",
    "    indexes = np.intersect1d(np.nonzero(weights)[0], indexes_zero_prob)\n",
    "    \n",
    "    # Create new weights\n",
    "    new_weights = np.zeros(len(weights))\n",
    "    \n",
    "    # Start by swapping axis i and k so it is possible to iterate over all random walks\n",
    "    random_walks_list = np.swapaxes(random_walks, 0, 1)\n",
    "    \n",
    "    # Looping over and update weights\n",
    "    if(do_resample):\n",
    "        for index in indexes_zero_prob:\n",
    "            new_weights[index] = is_self_avoiding(random_walks_list[index])/probabilities[index]\n",
    "    else:\n",
    "        for index in indexes:\n",
    "            new_weights[index] = is_self_avoiding(random_walks_list[index])/probabilities[index]*weights[index]\n",
    "        \n",
    "    return new_weights      \n",
    "\n",
    "def resample(random_walks, weights):\n",
    "    \n",
    "    # Calculate probabilities\n",
    "    probabilities = weights/np.sum(weights)\n",
    "    random_walks_list = np.swapaxes(random_walks, 0, 1)\n",
    "    \n",
    "    # Randomize replacement indices\n",
    "    replacement_index = np.random.choice(np.arange(len(random_walks_list)), len(random_walks_list), p = probabilities)\n",
    "    \n",
    "    # Create resampled random_walks\n",
    "    resamples_random_walks = list(map(lambda x: random_walks_list[x], replacement_index))\n",
    "    \n",
    "    return np.swapaxes(resamples_random_walks, 0, 1).tolist()\n",
    "\n",
    "def init_walk (d, k, N , self_avoiding = True, do_resample = True):\n",
    "    \n",
    "    # The random_walk array has the following structure compared \n",
    "    # to the lecture notes random_walk[k][i][d], where:\n",
    "    # k = step number k\n",
    "    # i = simulation number\n",
    "    # d = dimension \n",
    "    \n",
    "    random_walks = []\n",
    "    weights = [[1] * N]\n",
    "    \n",
    "    random_walks.append(np.zeros((N, d)))\n",
    "    \n",
    "    for step in range(k):\n",
    "        \n",
    "        if self_avoiding:\n",
    "            step_all, probabilities = random_neighbour_avoiding(random_walks)\n",
    "        else:\n",
    "            step_all, probabilities = random_neighbour(random_walks[step])\n",
    "            \n",
    "        random_walks.append(step_all)\n",
    "        weights.append(generate_weights(random_walks, weights[step], probabilities, do_resample=do_resample))\n",
    "        \n",
    "        if do_resample:\n",
    "            random_walks = resample(random_walks, weights[-1])\n",
    "            \n",
    "        print(\"-\", end=\"\")\n",
    "        \n",
    "    if do_resample:\n",
    "        return np.cumprod(np.mean(weights[1:], axis=1))\n",
    "    else:\n",
    "        return np.mean(weights[1:], axis=1), np.sqrt(np.var(weights[1:], axis=1)/N)*1.96\n",
    "    \n",
    "def estimate_parameters(cn):\n",
    "    \n",
    "    length = len(cn)\n",
    "    \n",
    "    # Finding optimal parameters\n",
    "    y = np.log(cn)\n",
    "    X = np.hstack((np.ones(length), np.arange(length) + 1, np.log(np.arange(length) + 1))).reshape(3,length).T\n",
    "    theta =(np.linalg.inv(X.T@X)@X.T)@y\n",
    "\n",
    "    # Un transform\n",
    "    theta = [np.e**theta[0], np.e**theta[1], theta[2] + 1]\n",
    "    \n",
    "    return theta "
   ]
  },
  {
   "cell_type": "markdown",
   "metadata": {},
   "source": [
    "## Task 3"
   ]
  },
  {
   "cell_type": "code",
   "execution_count": 3,
   "metadata": {},
   "outputs": [
    {
     "name": "stdout",
     "output_type": "stream",
     "text": [
      "----------------------------------------------------------------------------------------------------"
     ]
    }
   ],
   "source": [
    "# Simulating data\n",
    "n = 100\n",
    "cn,interval = init_walk(2, n, 10**4, self_avoiding=False, do_resample=False)"
   ]
  },
  {
   "cell_type": "code",
   "execution_count": 4,
   "metadata": {},
   "outputs": [],
   "source": [
    "# Generating table for report\n",
    "pd.set_option(\"display.precision\", 2)\n",
    "pd.set_option('display.float_format', lambda x: '%.1f' % x if (x < 10**5) else '%.3e' % x)\n",
    "\n",
    "df = pd.DataFrame(cn, columns=[\"$C_n$\"])\n",
    "df[\"$I_{95\\%}$\"] = interval\n",
    "df[\"$n$\"] = pd.Series(np.arange(1,101))\n",
    "df = df[[\"$n$\", \"$C_n$\", \"$I_{95\\%}$\"]]\n",
    "df = df.loc[[0,1,2,3,4,9,19,24]]\n",
    "\n",
    "savetable(\"random_walk_results.tex\",df)"
   ]
  },
  {
   "cell_type": "markdown",
   "metadata": {},
   "source": [
    "## Task 4"
   ]
  },
  {
   "cell_type": "code",
   "execution_count": 26,
   "metadata": {},
   "outputs": [
    {
     "name": "stdout",
     "output_type": "stream",
     "text": [
      "----------------------------------------------------------------------------------------------------"
     ]
    }
   ],
   "source": [
    "# Simulating data\n",
    "n = 100\n",
    "cn,interval = init_walk(2, n, 10**4, self_avoiding=True, do_resample=False)"
   ]
  },
  {
   "cell_type": "code",
   "execution_count": 59,
   "metadata": {},
   "outputs": [],
   "source": [
    "# Generating table for report\n",
    "pd.set_option(\"display.precision\", 2)\n",
    "pd.set_option('display.float_format', lambda x: '%.1f' % x if (x < 10**5) else '%.3e' % x)\n",
    "\n",
    "df = pd.DataFrame(cn, columns=[\"$C_n$\"])\n",
    "df[\"$I_{95\\%}$\"] = interval\n",
    "df[\"$n$\"] = pd.Series(np.arange(1,101))\n",
    "df = df[[\"$n$\", \"$C_n$\", \"$I_{95\\%}$\"]]\n",
    "df = df.loc[[0,1,2,3,4,9,19,49,99]]\n",
    "\n",
    "savetable(\"self_avoding_results.tex\",df)"
   ]
  },
  {
   "cell_type": "markdown",
   "metadata": {},
   "source": [
    "## Task 5"
   ]
  },
  {
   "cell_type": "code",
   "execution_count": 80,
   "metadata": {},
   "outputs": [
    {
     "name": "stdout",
     "output_type": "stream",
     "text": [
      "----------------------------------------------------------------------------------------------------"
     ]
    }
   ],
   "source": [
    "# Simulating data\n",
    "n = 100\n",
    "cn = init_walk(2, n, 10**4, self_avoiding=True, do_resample=True)"
   ]
  },
  {
   "cell_type": "code",
   "execution_count": 81,
   "metadata": {},
   "outputs": [],
   "source": [
    "# Generating table for report\n",
    "pd.set_option(\"display.precision\", 2)\n",
    "pd.set_option('display.float_format', lambda x: '%.1f' % x if (x < 10**5) else '%.3e' % x)\n",
    "\n",
    "df = pd.DataFrame(cn, columns=[\"$C_n$\"])\n",
    "df[\"$n$\"] = pd.Series(np.arange(1,101))\n",
    "df = df[[\"$n$\", \"$C_n$\"]]\n",
    "df = df.loc[[0,1,2,3,4,9,19,49,99]]\n",
    "\n",
    "savetable(\"resampling_results.tex\",df)"
   ]
  },
  {
   "cell_type": "markdown",
   "metadata": {},
   "source": [
    "## Task 6"
   ]
  },
  {
   "cell_type": "code",
   "execution_count": 85,
   "metadata": {},
   "outputs": [
    {
     "name": "stdout",
     "output_type": "stream",
     "text": [
      "----------------------------------------------------------------------------------------------------"
     ]
    }
   ],
   "source": [
    "# Simulating data\n",
    "n = 100\n",
    "cn = init_walk(2, n, 10**4, self_avoiding=True, do_resample=True)"
   ]
  },
  {
   "cell_type": "code",
   "execution_count": 93,
   "metadata": {},
   "outputs": [],
   "source": [
    "pd.set_option(\"display.precision\", 3)\n",
    "pd.set_option('display.float_format', lambda x: '%.3f' % x if (x < 10**5) else '%.3e' % x)\n",
    "\n",
    "steps = [5, 10, 15, 20, 30, 50, 100]\n",
    "parameters = []\n",
    "\n",
    "for step in steps:\n",
    "    parameter = estimate_parameters(cn[:step])\n",
    "    parameters.append({\"$n$\" : step, \"$A_2$\": parameter[0], \"$\\mu_2$\": parameter[1], \"$\\gamma_2$\": parameter[2]})\n",
    "    \n",
    "df = pd.DataFrame(parameters)\n",
    "savetable(\"parameters_2d.tex\", df)"
   ]
  },
  {
   "cell_type": "markdown",
   "metadata": {},
   "source": [
    "## Task 9"
   ]
  },
  {
   "cell_type": "code",
   "execution_count": null,
   "metadata": {},
   "outputs": [
    {
     "name": "stdout",
     "output_type": "stream",
     "text": [
      "---------------------------------------------------------------------------------------------------------------------------------------------------------------------------------------------------------------------------------------------------------------------------------------------------------------------------------------------------------------------------------------------------------------------------------------------------------------------------------------------------------------------------------------------------------------------------------------------------------------------------------------------------------------------------------------------------------------------------------------------------------------------------------------------------------------------------------------------------------------------------------------"
     ]
    }
   ],
   "source": [
    "dimensions = [4,5,6,7,8,9,10,15,20,50]\n",
    "\n",
    "parameters = []\n",
    "\n",
    "for dimension in dimensions:\n",
    "    cn = init_walk(dimension, 100, 10**4, self_avoiding=True, do_resample=True)\n",
    "    parameter = estimate_parameters(cn)\n",
    "    \n",
    "    parameters.append({\"$d$\" : dimension, \"$A_2$\": parameter[0], \"$\\mu_2$\": parameter[1], \"$\\gamma_2$\": parameter[2]})"
   ]
  },
  {
   "cell_type": "code",
   "execution_count": 97,
   "metadata": {},
   "outputs": [],
   "source": [
    "df = pd.DataFrame(parameters)"
   ]
  },
  {
   "cell_type": "code",
   "execution_count": 98,
   "metadata": {},
   "outputs": [
    {
     "data": {
      "text/html": [
       "<div>\n",
       "<style scoped>\n",
       "    .dataframe tbody tr th:only-of-type {\n",
       "        vertical-align: middle;\n",
       "    }\n",
       "\n",
       "    .dataframe tbody tr th {\n",
       "        vertical-align: top;\n",
       "    }\n",
       "\n",
       "    .dataframe thead th {\n",
       "        text-align: right;\n",
       "    }\n",
       "</style>\n",
       "<table border=\"1\" class=\"dataframe\">\n",
       "  <thead>\n",
       "    <tr style=\"text-align: right;\">\n",
       "      <th></th>\n",
       "      <th>$d$</th>\n",
       "      <th>$A_2$</th>\n",
       "      <th>$\\mu_2$</th>\n",
       "      <th>$\\gamma_2$</th>\n",
       "    </tr>\n",
       "  </thead>\n",
       "  <tbody>\n",
       "    <tr>\n",
       "      <td>0</td>\n",
       "      <td>4</td>\n",
       "      <td>1.452</td>\n",
       "      <td>2.643</td>\n",
       "      <td>1.265</td>\n",
       "    </tr>\n",
       "    <tr>\n",
       "      <td>1</td>\n",
       "      <td>5</td>\n",
       "      <td>1.379</td>\n",
       "      <td>2.644</td>\n",
       "      <td>1.291</td>\n",
       "    </tr>\n",
       "    <tr>\n",
       "      <td>2</td>\n",
       "      <td>6</td>\n",
       "      <td>1.404</td>\n",
       "      <td>2.638</td>\n",
       "      <td>1.295</td>\n",
       "    </tr>\n",
       "    <tr>\n",
       "      <td>3</td>\n",
       "      <td>7</td>\n",
       "      <td>1.447</td>\n",
       "      <td>2.644</td>\n",
       "      <td>1.261</td>\n",
       "    </tr>\n",
       "    <tr>\n",
       "      <td>4</td>\n",
       "      <td>8</td>\n",
       "      <td>1.377</td>\n",
       "      <td>2.638</td>\n",
       "      <td>1.296</td>\n",
       "    </tr>\n",
       "    <tr>\n",
       "      <td>5</td>\n",
       "      <td>9</td>\n",
       "      <td>1.409</td>\n",
       "      <td>2.638</td>\n",
       "      <td>1.292</td>\n",
       "    </tr>\n",
       "    <tr>\n",
       "      <td>6</td>\n",
       "      <td>10</td>\n",
       "      <td>1.443</td>\n",
       "      <td>2.644</td>\n",
       "      <td>1.270</td>\n",
       "    </tr>\n",
       "    <tr>\n",
       "      <td>7</td>\n",
       "      <td>15</td>\n",
       "      <td>1.400</td>\n",
       "      <td>2.638</td>\n",
       "      <td>1.299</td>\n",
       "    </tr>\n",
       "    <tr>\n",
       "      <td>8</td>\n",
       "      <td>20</td>\n",
       "      <td>1.437</td>\n",
       "      <td>2.644</td>\n",
       "      <td>1.266</td>\n",
       "    </tr>\n",
       "    <tr>\n",
       "      <td>9</td>\n",
       "      <td>50</td>\n",
       "      <td>1.426</td>\n",
       "      <td>2.644</td>\n",
       "      <td>1.280</td>\n",
       "    </tr>\n",
       "  </tbody>\n",
       "</table>\n",
       "</div>"
      ],
      "text/plain": [
       "   $d$  $A_2$  $\\mu_2$  $\\gamma_2$\n",
       "0    4  1.452    2.643       1.265\n",
       "1    5  1.379    2.644       1.291\n",
       "2    6  1.404    2.638       1.295\n",
       "3    7  1.447    2.644       1.261\n",
       "4    8  1.377    2.638       1.296\n",
       "5    9  1.409    2.638       1.292\n",
       "6   10  1.443    2.644       1.270\n",
       "7   15  1.400    2.638       1.299\n",
       "8   20  1.437    2.644       1.266\n",
       "9   50  1.426    2.644       1.280"
      ]
     },
     "execution_count": 98,
     "metadata": {},
     "output_type": "execute_result"
    }
   ],
   "source": [
    "df"
   ]
  },
  {
   "cell_type": "code",
   "execution_count": null,
   "metadata": {},
   "outputs": [],
   "source": []
  }
 ],
 "metadata": {
  "kernelspec": {
   "display_name": "Python 3",
   "language": "python",
   "name": "python3"
  },
  "language_info": {
   "codemirror_mode": {
    "name": "ipython",
    "version": 3
   },
   "file_extension": ".py",
   "mimetype": "text/x-python",
   "name": "python",
   "nbconvert_exporter": "python",
   "pygments_lexer": "ipython3",
   "version": "3.7.3"
  }
 },
 "nbformat": 4,
 "nbformat_minor": 4
}
