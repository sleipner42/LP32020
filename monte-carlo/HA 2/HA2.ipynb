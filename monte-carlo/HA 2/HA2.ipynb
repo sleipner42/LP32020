{
 "cells": [
  {
   "cell_type": "code",
   "execution_count": 257,
   "metadata": {},
   "outputs": [],
   "source": [
    "import pandas as pd\n",
    "import numpy as np\n",
    "import math\n",
    "from scipy.stats import describe, randint\n",
    "from scipy.interpolate import interp1d\n",
    "import plotly.graph_objects as go\n",
    "import os\n",
    "import matplotlib.pyplot as plt\n",
    "from mpl_toolkits import mplot3d\n",
    "import seaborn as sns\n",
    "import scipy.sparse\n",
    "from scipy.optimize import least_squares\n",
    "\n",
    "sns.set()\n",
    "\n",
    "# Methods for exporting tables and images to latex\n",
    "def saveimg(filename, fig):\n",
    "    file_path = os.path.join(os.getcwd(), 'images')\n",
    "    os.makedirs(file_path, exist_ok=True)\n",
    "    fig.savefig(os.path.join(file_path, filename))\n",
    "    \n",
    "def savetable(filename, df):\n",
    "    file_path = os.path.join(os.getcwd(), 'tables')\n",
    "    os.makedirs(file_path, exist_ok=True)\n",
    "    pd.DataFrame(df).to_latex(os.path.join(file_path, filename),escape = False, index = False)"
   ]
  },
  {
   "cell_type": "markdown",
   "metadata": {},
   "source": [
    "# 3."
   ]
  },
  {
   "cell_type": "code",
   "execution_count": 241,
   "metadata": {},
   "outputs": [],
   "source": [
    "def random_neighbour(points):\n",
    "\n",
    "    # Getting dimensions of points\n",
    "    dimension = np.shape(points)\n",
    "    \n",
    "    # Generate if going up or down, do this for all points\n",
    "    up_or_down = 2*np.random.randint(2, size=dimension[0]) - 1\n",
    "    \n",
    "    # Generate which diretion to go in for all points\n",
    "    direction = np.random.randint(dimension[1], size=dimension[0])\n",
    "    \n",
    "    # Create new matrix, create a binary matrix of the direction\n",
    "    indptr = range(len(direction)+1)\n",
    "    data = np.ones(len(direction))\n",
    "    points_to_change = scipy.sparse.csr_matrix((data, direction, indptr)).toarray()\n",
    "    \n",
    "    # Add the binary matrix multiplied by direction to the old points\n",
    "    new_points = points + (points_to_change.T*up_or_down).T\n",
    "    \n",
    "    # Generating probabilities\n",
    "    probabilities = np.ones(dimension[0])*1/(dimension[1]*2)\n",
    "    \n",
    "    return new_points, probabilities\n",
    "\n",
    "def random_neighbour_avoiding(random_walks):\n",
    "    \n",
    "    # Start by swapping axis i and k so it is possible to iterate over all random walks\n",
    "    random_walks_list = np.swapaxes(random_walks, 0, 1)\n",
    "    \n",
    "    new_points = []\n",
    "    probabilities = []\n",
    "    \n",
    "    # Iterate over random walks\n",
    "    for random_walk in random_walks_list:\n",
    "        \n",
    "        random_walk = random_walk.tolist()\n",
    "        \n",
    "        last_point = random_walk[-1]\n",
    "        viable_points = []\n",
    "        \n",
    "        dimension = np.shape(last_point)[0]\n",
    "        \n",
    "        for n in range(dimension):\n",
    "            \n",
    "            change = np.zeros(dimension)\n",
    "            change[n] = 1\n",
    "            \n",
    "            point_up = last_point - change\n",
    "            point_down = last_point + change\n",
    "            \n",
    "            viable_points.append(list(point_up))\n",
    "            viable_points.append(list(point_down))\n",
    "        \n",
    "        viable_points = list(filter(lambda x: x not in random_walk, viable_points))\n",
    "        length = len(viable_points)\n",
    "                        \n",
    "        if length == 0:\n",
    "            new_points.append(last_point)\n",
    "            probabilities.append(0)\n",
    "        else:   \n",
    "            probabilities.append(1/length)\n",
    "            new_point_index = np.random.randint(length, size=1)[0]\n",
    "            new_points.append(viable_points[new_point_index])\n",
    "        \n",
    "    return new_points, probabilities\n",
    "\n",
    "def is_self_avoiding(random_walk):\n",
    "    return int(len(np.unique(random_walk, axis=0)) == len(random_walk))\n",
    "\n",
    "def generate_weights(random_walks, weights, probabilities):\n",
    "    \n",
    "    # Get indexes where weights is different from zero\n",
    "    indexes = np.intersect1d(np.nonzero(weights)[0], np.nonzero(probabilities)[0])\n",
    "    \n",
    "    # Create new weights\n",
    "    new_weights = np.zeros(len(weights))\n",
    "    \n",
    "    # Start by swapping axis i and k so it is possible to iterate over all random walks\n",
    "    random_walks_list = np.swapaxes(random_walks, 0, 1)\n",
    "    \n",
    "    # Looping over wieghts different from zero\n",
    "    for index in indexes:\n",
    "        \n",
    "        new_weights[index] = is_self_avoiding(random_walks_list[index])/probabilities[index]*weights[index]\n",
    "        \n",
    "    return new_weights      \n",
    "\n",
    "def resample(random_walks, weights):\n",
    "    \n",
    "    # Get indexes where weights is different from zero\n",
    "    zero_index = np.nonzero(weights == 0)[0]\n",
    "    non_zero_index = np.nonzero(weights)[0]\n",
    "    \n",
    "    probabilities = weights/np.sum(weights)\n",
    "    random_walks_list = np.swapaxes(random_walks, 0, 1)\n",
    "    \n",
    "    replacement_index = np.random.choice(np.arange(len(random_walks_list)), len(zero_index), p = probabilities)\n",
    "    \n",
    "    for i, index in enumerate(zero_index):\n",
    "        random_walks_list[index] = random_walks_list[replacement_index[i]]\n",
    "        weights[index] = 1\n",
    "    \n",
    "    return np.swapaxes(random_walks_list, 0, 1).tolist(), weights\n",
    "\n",
    "def init_walk (d, k, N, self_avoiding = False, do_resample = False):\n",
    "    \n",
    "    # The random_walk array has the following structure compared \n",
    "    # to the lecture notes random_walk[k][i][d], where:\n",
    "    # k = step number k\n",
    "    # i = simulation number\n",
    "    # d = dimension \n",
    "    \n",
    "    random_walks = []\n",
    "    weights = [[1] * N]\n",
    "    \n",
    "    random_walks.append(np.zeros((N, d)))\n",
    "    \n",
    "    for step in range(k):\n",
    "        \n",
    "        if self_avoiding:\n",
    "            step_all, probabilities = random_neighbour_avoiding(random_walks)\n",
    "        else:\n",
    "            step_all, probabilities = random_neighbour(random_walks[step])\n",
    "            \n",
    "        random_walks.append(step_all)\n",
    "        weights.append(generate_weights(random_walks, weights[step], probabilities))\n",
    "        \n",
    "        if do_resample:\n",
    "            random_walks, weights[-1] = resample(random_walks, weights[-1])\n",
    "            \n",
    "        print(\"-\", end=\"\")\n",
    "        \n",
    "    return random_walks, weights"
   ]
  },
  {
   "cell_type": "code",
   "execution_count": null,
   "metadata": {},
   "outputs": [],
   "source": [
    "walks, weights = init_walk(10\n",
    "                           , 50, 10**3, self_avoiding=True, do_resample=True)+\n"
   ]
  },
  {
   "cell_type": "code",
   "execution_count": 393,
   "metadata": {},
   "outputs": [
    {
     "name": "stdout",
     "output_type": "stream",
     "text": [
      "[ 0.05482768 18.93523042  1.00998794]\n"
     ]
    }
   ],
   "source": [
    "cn = np.mean(weights, axis=1)\n",
    "length = len(cn)\n",
    "\n",
    "y = np.log(cn).T\n",
    "X = np.hstack((np.ones(length), np.arange(length)+1, np.log(np.arange(length)+1))).reshape(3,length).T\n",
    "theta = np.linalg.inv(X.T@X)@X.T@y\n",
    "print(np.e**theta)"
   ]
  },
  {
   "cell_type": "code",
   "execution_count": 394,
   "metadata": {},
   "outputs": [
    {
     "data": {
      "text/plain": [
       "[<matplotlib.lines.Line2D at 0x7fb7fe0a5438>]"
      ]
     },
     "execution_count": 394,
     "metadata": {},
     "output_type": "execute_result"
    },
    {
     "data": {
      "image/png": "[encoded data removed]",
      "text/plain": [
       "<Figure size 432x288 with 1 Axes>"
      ]
     },
     "metadata": {},
     "output_type": "display_data"
    }
   ],
   "source": [
    "plt.plot()\n",
    "plt.plot(y - theta@X.T)"
   ]
  },
  {
   "cell_type": "code",
   "execution_count": null,
   "metadata": {},
   "outputs": [],
   "source": []
  },
  {
   "cell_type": "code",
   "execution_count": null,
   "metadata": {},
   "outputs": [],
   "source": []
  },
  {
   "cell_type": "code",
   "execution_count": null,
   "metadata": {},
   "outputs": [],
   "source": []
  },
  {
   "cell_type": "code",
   "execution_count": null,
   "metadata": {},
   "outputs": [],
   "source": []
  }
 ],
 "metadata": {
  "kernelspec": {
   "display_name": "Python 3",
   "language": "python",
   "name": "python3"
  },
  "language_info": {
   "codemirror_mode": {
    "name": "ipython",
    "version": 3
   },
   "file_extension": ".py",
   "mimetype": "text/x-python",
   "name": "python",
   "nbconvert_exporter": "python",
   "pygments_lexer": "ipython3",
   "version": "3.7.3"
  }
 },
 "nbformat": 4,
 "nbformat_minor": 4
}
