{
 "cells": [
  {
   "cell_type": "code",
   "execution_count": 13,
   "metadata": {},
   "outputs": [],
   "source": [
    "import pandas as pd\n",
    "import numpy as np\n",
    "import math\n",
    "from scipy.stats import describe, randint\n",
    "from scipy.interpolate import interp1d\n",
    "import plotly.graph_objects as go\n",
    "import os\n",
    "import matplotlib.pyplot as plt\n",
    "from mpl_toolkits import mplot3d\n",
    "import seaborn as sns\n",
    "\n",
    "\n",
    "sns.set()\n",
    "\n",
    "\n",
    "# Methods for exporting tables and images to latex\n",
    "def saveimg(filename, fig):\n",
    "    file_path = os.path.join(os.getcwd(), 'images')\n",
    "    os.makedirs(file_path, exist_ok=True)\n",
    "    fig.savefig(os.path.join(file_path, filename))\n",
    "    \n",
    "def savetable(filename, df):\n",
    "    file_path = os.path.join(os.getcwd(), 'tables')\n",
    "    os.makedirs(file_path, exist_ok=True)\n",
    "    pd.DataFrame(df).to_latex(os.path.join(file_path, filename),escape = False, index = False)"
   ]
  },
  {
   "cell_type": "markdown",
   "metadata": {},
   "source": [
    "# 3."
   ]
  },
  {
   "cell_type": "code",
   "execution_count": 226,
   "metadata": {},
   "outputs": [],
   "source": [
    "def random_neighbour(point):\n",
    "   \n",
    "    # Getting dimension\n",
    "    dimension = len(point)\n",
    "    \n",
    "    # Generate if going up or down\n",
    "    up_or_down = 2*np.random.randint(2, size=1)[0] - 1\n",
    "    \n",
    "    # Generate which diretion to go in\n",
    "    direction = np.random.randint(dimension, size=1)[0]\n",
    "    \n",
    "    # Create new point\n",
    "    new_point = point.copy()\n",
    "    new_point[direction]+= up_or_down\n",
    "    \n",
    "    return new_point\n",
    "\n",
    "#Generates a single random walk in d dimensions with length k            \n",
    "def generate_walk(d, k):\n",
    "    walk = [[0] * d]\n",
    "    for step in range(k):\n",
    "        walk.append(random_neighbour(walk[step]))\n",
    "    return walk\n",
    "\n",
    "#Generates N random walks in d dimensions with length k\n",
    "def generate_walks(d, k, N, plot_it = False):\n",
    "    walks = []\n",
    "    for _ in range(N):\n",
    "        walk = generate_walk(d,k)\n",
    "        if plot_it == True:\n",
    "            if d > 3:\n",
    "                #error\n",
    "                pass\n",
    "            else:\n",
    "                #plot\n",
    "                pass\n",
    "        walks.append(walk)\n",
    "    return walks\n",
    "\n",
    "def is_self_avoiding(random_walks):\n",
    "    \n",
    "    is_saw = lambda x: 1 if(len(np.unique(x, axis=0)) == len(x)) else 0\n",
    "    array_of_saw = list(map(is_saw, random_walks))\n",
    "    \n",
    "    return array_of_saw\n",
    "\n",
    "\n",
    "\n",
    "def init_walk (d, k, N):\n",
    "    weights = [[1] * N]\n",
    "    pos = "
   ]
  },
  {
   "cell_type": "code",
   "execution_count": 237,
   "metadata": {},
   "outputs": [
    {
     "ename": "SyntaxError",
     "evalue": "EOL while scanning string literal (<ipython-input-237-cae2afd72614>, line 5)",
     "output_type": "error",
     "traceback": [
      "\u001b[1;36m  File \u001b[1;32m\"<ipython-input-237-cae2afd72614>\"\u001b[1;36m, line \u001b[1;32m5\u001b[0m\n\u001b[1;33m    print(f' {k}: {np.mean(is_self_avoiding(walks))}\u001b[0m\n\u001b[1;37m                                                    ^\u001b[0m\n\u001b[1;31mSyntaxError\u001b[0m\u001b[1;31m:\u001b[0m EOL while scanning string literal\n"
     ]
    }
   ],
   "source": []
  },
  {
   "cell_type": "code",
   "execution_count": null,
   "metadata": {},
   "outputs": [],
   "source": []
  },
  {
   "cell_type": "code",
   "execution_count": null,
   "metadata": {},
   "outputs": [],
   "source": []
  },
  {
   "cell_type": "code",
   "execution_count": null,
   "metadata": {},
   "outputs": [],
   "source": []
  },
  {
   "cell_type": "code",
   "execution_count": null,
   "metadata": {},
   "outputs": [],
   "source": []
  }
 ],
 "metadata": {
  "kernelspec": {
   "display_name": "Python 3.8.1 64-bit",
   "language": "python",
   "name": "python38164bit45d99a14a29047d0bd4fa12fbfa465d1"
  },
  "language_info": {
   "codemirror_mode": {
    "name": "ipython",
    "version": 3
   },
   "file_extension": ".py",
   "mimetype": "text/x-python",
   "name": "python",
   "nbconvert_exporter": "python",
   "pygments_lexer": "ipython3",
   "version": "3.8.1"
  }
 },
 "nbformat": 4,
 "nbformat_minor": 4
}
