{
 "cells": [
  {
   "cell_type": "code",
   "execution_count": 2,
   "metadata": {},
   "outputs": [],
   "source": [
    "import pandas as pd\n",
    "import numpy as np\n",
    "import math\n",
    "from scipy.stats import describe, randint\n",
    "from scipy.interpolate import interp1d\n",
    "import plotly.graph_objects as go\n",
    "import os\n",
    "import matplotlib.pyplot as plt\n",
    "from mpl_toolkits import mplot3d\n",
    "import seaborn as sns\n",
    "import scipy.sparse\n",
    "\n",
    "sns.set()\n",
    "\n",
    "# Methods for exporting tables and images to latex\n",
    "def saveimg(filename, fig):\n",
    "    file_path = os.path.join(os.getcwd(), 'images')\n",
    "    os.makedirs(file_path, exist_ok=True)\n",
    "    fig.savefig(os.path.join(file_path, filename))\n",
    "    \n",
    "def savetable(filename, df):\n",
    "    file_path = os.path.join(os.getcwd(), 'tables')\n",
    "    os.makedirs(file_path, exist_ok=True)\n",
    "    pd.DataFrame(df).to_latex(os.path.join(file_path, filename),escape = False, index = False)"
   ]
  },
  {
   "cell_type": "markdown",
   "metadata": {},
   "source": [
    "# 3."
   ]
  },
  {
   "cell_type": "code",
   "execution_count": 164,
   "metadata": {},
   "outputs": [],
   "source": [
    "def random_neighbour(points):\n",
    "\n",
    "    # Getting dimensions of points\n",
    "    dimension = np.shape(points)\n",
    "    \n",
    "    # Generate if going up or down, do this for all points\n",
    "    up_or_down = 2*np.random.randint(2, size=dimension[0]) - 1\n",
    "    \n",
    "    # Generate which diretion to go in for all points\n",
    "    direction = np.random.randint(dimension[1], size=dimension[0])\n",
    "    \n",
    "    # Create new matrix, create a binary matrix of the direction\n",
    "    indptr = range(len(direction)+1)\n",
    "    data = np.ones(len(direction))\n",
    "    points_to_change = scipy.sparse.csr_matrix((data, direction, indptr)).toarray()\n",
    "    \n",
    "    # Add the binary matrix multiplied by direction to the old points\n",
    "    new_points = points + (points_to_change.T*up_or_down).T\n",
    "    \n",
    "    return new_points\n",
    "\n",
    "def random_neighbour_avoiding(random_walks):\n",
    "    \n",
    "    # Start by swapping axis i and k so it is possible to iterate over all random walks\n",
    "    random_walks_list = np.swapaxes(random_walks, 0, 1)\n",
    "    \n",
    "    new_points = []\n",
    "    \n",
    "    # Iterate over random walks\n",
    "    for random_walk in random_walks_list:\n",
    "        \n",
    "        print(\"Random walk\")\n",
    "        print(random_walk)\n",
    "        \n",
    "        last_point = random_walk[-1]\n",
    "        viable_points = []\n",
    "        \n",
    "        dimension = np.shape(last_point)[0]\n",
    "        \n",
    "        for n in range(dimension):\n",
    "            \n",
    "            change = np.zeros(dimension)\n",
    "            change[n] = 1\n",
    "            \n",
    "            point_up = last_point - change\n",
    "            point_down = last_point + change\n",
    "            \n",
    "            viable_points.append(list(point_up))\n",
    "            viable_points.append(list(point_down))\n",
    "        \n",
    "        for point in viable_points:\n",
    "            print(f'Finns {point} i: {point in random_walk}')\n",
    "        \n",
    "        viable_points = list(filter(lambda x: x in random_walk, viable_points))\n",
    "        length = len(viable_points)\n",
    "        \n",
    "        if length == 0:\n",
    "            new_points.append(last_point)\n",
    "        else:   \n",
    "            new_point_index = np.random.randint(length, size=1)[0]\n",
    "            new_points.append(viable_points[new_point_index])\n",
    "        \n",
    "    return new_points\n",
    "\n",
    "def is_self_avoiding(random_walk):\n",
    "    return int(len(np.unique(random_walk, axis=0)) == len(random_walk))\n",
    "\n",
    "def generate_weights(random_walks, weights):\n",
    "    \n",
    "    # Get indexes where weights is different from zero\n",
    "    indexes = np.nonzero(weights)[0]\n",
    "    \n",
    "    # Create new weights\n",
    "    new_weights = np.zeros(len(weights))\n",
    "    \n",
    "    # Start by swapping axis i and k so it is possible to iterate over all random walks\n",
    "    random_walks_list = np.swapaxes(random_walks, 0, 1)\n",
    "    \n",
    "    # Looping over wieghts different from zero\n",
    "    for index in indexes:\n",
    "        new_weights[index] = is_self_avoiding(random_walks_list[index])\n",
    "        \n",
    "    return new_weights      \n",
    "\n",
    "def init_walk (d, k, N, self_avoiding = False):\n",
    "    \n",
    "    # The random_walk array has the following structure compared \n",
    "    # to the lecture notes random_walk[k][i][d], where:\n",
    "    # k = step number k\n",
    "    # i = simulation number\n",
    "    # d = dimension \n",
    "    \n",
    "    random_walks = []\n",
    "    weights = [[1] * N]\n",
    "    \n",
    "    random_walks.append(np.zeros((N, d)))\n",
    "    \n",
    "    for step in range(k):\n",
    "        if self_avoiding:\n",
    "            step_all = random_neighbour_avoiding(random_walks)\n",
    "        else:\n",
    "            step_all = random_neighbour(random_walks[step])\n",
    "        random_walks.append(step_all)\n",
    "        weights.append(generate_weights(random_walks, weights[step]))\n",
    "        print(\"-\", end = '')\n",
    "        \n",
    "    return random_walks, weights"
   ]
  },
  {
   "cell_type": "code",
   "execution_count": null,
   "metadata": {},
   "outputs": [],
   "source": []
  },
  {
   "cell_type": "code",
   "execution_count": null,
   "metadata": {},
   "outputs": [],
   "source": [
    "random"
   ]
  },
  {
   "cell_type": "code",
   "execution_count": 165,
   "metadata": {},
   "outputs": [
    {
     "name": "stdout",
     "output_type": "stream",
     "text": [
      "Random walk\n",
      "[[0. 0.]]\n",
      "Finns [-1.0, 0.0] i: True\n",
      "Finns [1.0, 0.0] i: True\n",
      "Finns [0.0, -1.0] i: True\n",
      "Finns [0.0, 1.0] i: True\n",
      "-Random walk\n",
      "[[ 0.  0.]\n",
      " [ 0. -1.]]\n",
      "Finns [-1.0, -1.0] i: True\n",
      "Finns [1.0, -1.0] i: True\n",
      "Finns [0.0, -2.0] i: True\n",
      "Finns [0.0, 0.0] i: True\n",
      "-Random walk\n",
      "[[ 0.  0.]\n",
      " [ 0. -1.]\n",
      " [ 1. -1.]]\n",
      "Finns [0.0, -1.0] i: True\n",
      "Finns [2.0, -1.0] i: True\n",
      "Finns [1.0, -2.0] i: True\n",
      "Finns [1.0, 0.0] i: True\n",
      "-Random walk\n",
      "[[ 0.  0.]\n",
      " [ 0. -1.]\n",
      " [ 1. -1.]\n",
      " [ 1. -2.]]\n",
      "Finns [0.0, -2.0] i: True\n",
      "Finns [2.0, -2.0] i: True\n",
      "Finns [1.0, -3.0] i: True\n",
      "Finns [1.0, -1.0] i: True\n",
      "-Random walk\n",
      "[[ 0.  0.]\n",
      " [ 0. -1.]\n",
      " [ 1. -1.]\n",
      " [ 1. -2.]\n",
      " [ 1. -3.]]\n",
      "Finns [0.0, -3.0] i: True\n",
      "Finns [2.0, -3.0] i: True\n",
      "Finns [1.0, -4.0] i: True\n",
      "Finns [1.0, -2.0] i: True\n",
      "-"
     ]
    },
    {
     "data": {
      "text/plain": [
       "array([0., 0., 0., 0., 0., 0.])"
      ]
     },
     "execution_count": 165,
     "metadata": {},
     "output_type": "execute_result"
    },
    {
     "data": {
      "image/png": "[encoded data removed]",
      "text/plain": [
       "<Figure size 432x288 with 1 Axes>"
      ]
     },
     "metadata": {},
     "output_type": "display_data"
    }
   ],
   "source": [
    "walks, weights = init_walk(2, 5, 1, self_avoiding=True)\n",
    "prob = np.mean(weights, axis=1)\n",
    "var = np.var(weights, axis=1)\n",
    "plt.plot(range(len(weights)), prob)\n",
    "plt.plot(range(len(var)), var)\n",
    "var"
   ]
  },
  {
   "cell_type": "code",
   "execution_count": null,
   "metadata": {},
   "outputs": [],
   "source": [
    "walks, weights = init_walk(2, 20, 10**5, self_avoiding=False)\n",
    "prob = np.mean(weights, axis=1)\n",
    "var = np.var(weights, axis=1)\n",
    "plt.plot(range(len(weights)), prob)\n",
    "plt.plot(range(len(var)), var)\n",
    "var"
   ]
  },
  {
   "cell_type": "code",
   "execution_count": 151,
   "metadata": {},
   "outputs": [],
   "source": [
    "rw = [[0, 0], [1, 0,]]\n",
    "points = [[0, 0], [1, 2,]]\n",
    "points = list(filter(lambda x: x not in rw, points))"
   ]
  },
  {
   "cell_type": "code",
   "execution_count": 173,
   "metadata": {},
   "outputs": [
    {
     "data": {
      "text/plain": [
       "False"
      ]
     },
     "execution_count": 173,
     "metadata": {},
     "output_type": "execute_result"
    }
   ],
   "source": [
    "[0, 3] in [[0, 1.00], [1,3]]"
   ]
  },
  {
   "cell_type": "code",
   "execution_count": null,
   "metadata": {},
   "outputs": [],
   "source": []
  },
  {
   "cell_type": "code",
   "execution_count": 174,
   "metadata": {},
   "outputs": [
    {
     "data": {
      "text/plain": [
       "[array([[0., 0.]]),\n",
       " [[0.0, -1.0]],\n",
       " [[1.0, -1.0]],\n",
       " [[1.0, -2.0]],\n",
       " [[1.0, -3.0]],\n",
       " [[2.0, -3.0]]]"
      ]
     },
     "execution_count": 174,
     "metadata": {},
     "output_type": "execute_result"
    }
   ],
   "source": [
    "walks"
   ]
  },
  {
   "cell_type": "code",
   "execution_count": null,
   "metadata": {},
   "outputs": [],
   "source": []
  },
  {
   "cell_type": "code",
   "execution_count": null,
   "metadata": {},
   "outputs": [],
   "source": []
  },
  {
   "cell_type": "code",
   "execution_count": null,
   "metadata": {},
   "outputs": [],
   "source": []
  }
 ],
 "metadata": {
  "kernelspec": {
   "display_name": "Python 3",
   "language": "python",
   "name": "python3"
  },
  "language_info": {
   "codemirror_mode": {
    "name": "ipython",
    "version": 3
   },
   "file_extension": ".py",
   "mimetype": "text/x-python",
   "name": "python",
   "nbconvert_exporter": "python",
   "pygments_lexer": "ipython3",
   "version": "3.7.0"
  }
 },
 "nbformat": 4,
 "nbformat_minor": 4
}
