{
 "cells": [
  {
   "cell_type": "code",
   "execution_count": 51,
   "metadata": {},
   "outputs": [],
   "source": [
    "import pandas as pd\n",
    "import numpy as np\n",
    "import math\n",
    "from scipy.stats import describe, randint\n",
    "from scipy.interpolate import interp1d\n",
    "import plotly.graph_objects as go\n",
    "import os\n",
    "import matplotlib.pyplot as plt\n",
    "from mpl_toolkits import mplot3d\n",
    "import seaborn as sns\n",
    "import scipy.sparse\n",
    "from scipy.optimize import least_squares\n",
    "from sklearn.linear_model import LinearRegression\n",
    "\n",
    "sns.set()\n",
    "\n",
    "# Methods for exporting tables and images to latex\n",
    "def saveimg(filename, fig):\n",
    "    file_path = os.path.join(os.getcwd(), 'images')\n",
    "    os.makedirs(file_path, exist_ok=True)\n",
    "    fig.savefig(os.path.join(file_path, filename))\n",
    "    \n",
    "def savetable(filename, df):\n",
    "    file_path = os.path.join(os.getcwd(), 'tables')\n",
    "    os.makedirs(file_path, exist_ok=True)\n",
    "    pd.DataFrame(df).to_latex(os.path.join(file_path, filename),escape = False, index = False)\n",
    "    \n",
    "val = [1,4,12,36,100,284,780,2172,5916,16268,44100,120292,324932,881500,2374444,6416596,17245332,46466676,124658732,335116620,897697164,2408806028,6444560484,17266613812,46146397316,123481354908,329712786220,881317491628]"
   ]
  },
  {
   "cell_type": "markdown",
   "metadata": {},
   "source": [
    "# 3."
   ]
  },
  {
   "cell_type": "code",
   "execution_count": 58,
   "metadata": {},
   "outputs": [],
   "source": [
    "def random_neighbour(points):\n",
    "\n",
    "    # Getting dimensions of points\n",
    "    dimension = np.shape(points)\n",
    "    \n",
    "    # Generate if going up or down, do this for all points\n",
    "    up_or_down = 2*np.random.randint(2, size=dimension[0]) - 1\n",
    "    \n",
    "    # Generate which diretion to go in for all points\n",
    "    direction = np.random.randint(dimension[1], size=dimension[0])\n",
    "    \n",
    "    # Create new matrix, create a binary matrix of the direction\n",
    "    indptr = range(len(direction)+1)\n",
    "    data = np.ones(len(direction))\n",
    "    points_to_change = scipy.sparse.csr_matrix((data, direction, indptr)).toarray()\n",
    "    \n",
    "    # Add the binary matrix multiplied by direction to the old points\n",
    "    new_points = points + (points_to_change.T*up_or_down).T\n",
    "    \n",
    "    # Generating probabilities\n",
    "    probabilities = np.ones(dimension[0])*1/(dimension[1]*2)\n",
    "    \n",
    "    return new_points, probabilities\n",
    "\n",
    "def random_neighbour_avoiding(random_walks):\n",
    "    \n",
    "    # Start by swapping axis i and k so it is possible to iterate over all random walks\n",
    "    random_walks_list = np.swapaxes(random_walks, 0, 1)\n",
    "    \n",
    "    # Creating lists for new points probabilities\n",
    "    new_points = []\n",
    "    probabilities = []\n",
    "    \n",
    "    # Iterate over random walks\n",
    "    for random_walk in random_walks_list:\n",
    "        \n",
    "        # Making rw to list so it's possible to use 'not in'\n",
    "        random_walk = random_walk.tolist()\n",
    "        last_point = random_walk[-1]\n",
    "        \n",
    "        # Creating list for possible points\n",
    "        viable_points = []\n",
    "        \n",
    "        # Get dimension for last point\n",
    "        dimension = np.shape(last_point)[0]\n",
    "        \n",
    "        # Generate possible neigbours\n",
    "        for n in range(dimension):\n",
    "            \n",
    "            change = np.zeros(dimension)\n",
    "            change[n] = 1\n",
    "            \n",
    "            point_up = last_point - change\n",
    "            point_down = last_point + change\n",
    "            \n",
    "            viable_points.append(list(point_up))\n",
    "            viable_points.append(list(point_down))\n",
    "        \n",
    "        # Sort out points thats already in walk\n",
    "        viable_points = list(filter(lambda x: x not in random_walk, viable_points))\n",
    "        length = len(viable_points)\n",
    "        \n",
    "        # If no points left, append last one\n",
    "        if length == 0:\n",
    "            new_points.append(last_point)\n",
    "            probabilities.append(0)\n",
    "            \n",
    "        # Select on of the remaining points and calculate probability\n",
    "        else:   \n",
    "            probabilities.append(1/length)\n",
    "            new_point_index = np.random.randint(length, size=1)[0]\n",
    "            new_points.append(viable_points[new_point_index])\n",
    "        \n",
    "    return new_points, probabilities\n",
    "\n",
    "def is_self_avoiding(random_walk):\n",
    "    return int(len(np.unique(random_walk, axis=0)) == len(random_walk))\n",
    "\n",
    "def generate_weights(random_walks, weights, probabilities, do_resample=False):\n",
    "        \n",
    "    # Get indexes where probabilities is different from zero\n",
    "    indexes_zero_prob = np.nonzero(probabilities)[0]\n",
    "    \n",
    "    # Get indexes where weights is different from zero\n",
    "    indexes = np.intersect1d(np.nonzero(weights)[0], indexes_zero_prob)\n",
    "    \n",
    "    # Create new weights\n",
    "    new_weights = np.zeros(len(weights))\n",
    "    \n",
    "    # Start by swapping axis i and k so it is possible to iterate over all random walks\n",
    "    random_walks_list = np.swapaxes(random_walks, 0, 1)\n",
    "    \n",
    "    # Looping over and update weights\n",
    "    if(do_resample):\n",
    "        for index in indexes_zero_prob:\n",
    "            new_weights[index] = is_self_avoiding(random_walks_list[index])/probabilities[index]\n",
    "    else:\n",
    "        for index in indexes:\n",
    "            new_weights[index] = is_self_avoiding(random_walks_list[index])/probabilities[index]*weights[index]\n",
    "        \n",
    "    return new_weights      \n",
    "\n",
    "def resample(random_walks, weights):\n",
    "    \n",
    "    # Calculate probabilities\n",
    "    probabilities = weights/np.sum(weights)\n",
    "    random_walks_list = np.swapaxes(random_walks, 0, 1)\n",
    "    \n",
    "    # Randomize replacement indices\n",
    "    replacement_index = np.random.choice(np.arange(len(random_walks_list)), len(random_walks_list), p = probabilities)\n",
    "    \n",
    "    # Create resampled random_walks\n",
    "    resamples_random_walks = list(map(lambda x: random_walks_list[x], replacement_index))\n",
    "    \n",
    "    return np.swapaxes(resamples_random_walks, 0, 1).tolist()\n",
    "\n",
    "def init_walk (d, k, N, self_avoiding = False, do_resample = False):\n",
    "    \n",
    "    # The random_walk array has the following structure compared \n",
    "    # to the lecture notes random_walk[k][i][d], where:\n",
    "    # k = step number k\n",
    "    # i = simulation number\n",
    "    # d = dimension \n",
    "    \n",
    "    random_walks = []\n",
    "    weights = [[1] * N]\n",
    "    \n",
    "    random_walks.append(np.zeros((N, d)))\n",
    "    \n",
    "    for step in range(k):\n",
    "        \n",
    "        if self_avoiding:\n",
    "            step_all, probabilities = random_neighbour_avoiding(random_walks)\n",
    "        else:\n",
    "            step_all, probabilities = random_neighbour(random_walks[step])\n",
    "            \n",
    "        random_walks.append(step_all)\n",
    "        weights.append(generate_weights(random_walks, weights[step], probabilities, do_resample=do_resample))\n",
    "        \n",
    "        if do_resample:\n",
    "            random_walks = resample(random_walks, weights[-1])\n",
    "            \n",
    "        print(\"-\", end=\"\")\n",
    "        \n",
    "    if do_resample:\n",
    "        return np.cumprod(np.mean(weights[1:], axis=1))\n",
    "    else:\n",
    "        return np.mean(weights[1:], axis=1)\n",
    "    \n",
    "def estimate_parameters(cn):\n",
    "    \n",
    "    length = len(cn)\n",
    "    \n",
    "    # Finding optimal parameters\n",
    "    y = np.log(cn)\n",
    "    X = np.hstack((np.ones(length), np.arange(length) + 1, np.log(np.arange(length) + 1))).reshape(3,length).T\n",
    "    theta =(np.linalg.inv(X.T@X)@X.T)@y\n",
    "\n",
    "    # Un transform\n",
    "    theta = [np.e**theta[0], np.e**theta[1], theta[2] + 1]\n",
    "    \n",
    "    return theta "
   ]
  },
  {
   "cell_type": "code",
   "execution_count": 59,
   "metadata": {},
   "outputs": [
    {
     "name": "stdout",
     "output_type": "stream",
     "text": [
      "------------------------------[4.00000000e+00 1.20000000e+01 3.60000000e+01 1.00800000e+02\n",
      " 2.88792000e+02 7.97643504e+02 2.25174761e+03 6.13150875e+03\n",
      " 1.69107011e+04 4.60309285e+04 1.25158094e+05 3.40680333e+05\n",
      " 9.18814859e+05 2.47804367e+06 6.62381074e+06 1.80631319e+07\n",
      " 4.88246455e+07 1.32656562e+08 3.59101313e+08 9.60955113e+08\n",
      " 2.62725128e+09 7.06993319e+09 1.85585746e+10 4.94214842e+10\n",
      " 1.31016355e+11 3.50075700e+11 9.34001967e+11 2.49285125e+12\n",
      " 6.67834850e+12 1.78645822e+13]\n"
     ]
    }
   ],
   "source": [
    "cn = init_walk(2, 30, 10**3, self_avoiding=True, do_resample=True)\n",
    "\n",
    "print(cn)"
   ]
  },
  {
   "cell_type": "code",
   "execution_count": 57,
   "metadata": {},
   "outputs": [
    {
     "name": "stdout",
     "output_type": "stream",
     "text": [
      "----------------------------------------------------------------------------------------------------[1.4281319712329137, 2.639403123827856, 1.2815042854383822]\n"
     ]
    }
   ],
   "source": [
    "n = 100\n",
    "\n",
    "cn = init_walk(2, n, 10**4, self_avoiding=True, do_resample=True)\n",
    "print(estimate_parameters(cn))\n"
   ]
  },
  {
   "cell_type": "code",
   "execution_count": 55,
   "metadata": {},
   "outputs": [
    {
     "data": {
      "text/plain": [
       "[<matplotlib.lines.Line2D at 0x10415f940>]"
      ]
     },
     "execution_count": 55,
     "metadata": {},
     "output_type": "execute_result"
    },
    {
     "data": {
      "image/png": "[encoded data removed]",
      "text/plain": [
       "<Figure size 432x288 with 1 Axes>"
      ]
     },
     "metadata": {},
     "output_type": "display_data"
    }
   ],
   "source": [
    "plt.plot(np.abs(cn - val[1:n+1])/val[1:n+1]*100)"
   ]
  },
  {
   "cell_type": "code",
   "execution_count": null,
   "metadata": {},
   "outputs": [],
   "source": []
  },
  {
   "cell_type": "code",
   "execution_count": 417,
   "metadata": {},
   "outputs": [
    {
     "data": {
      "text/plain": [
       "array([ 0.00000000e+00,  3.00000000e+00,  1.10000000e+01,  3.20000000e+01,\n",
       "        5.20000000e+01, -1.44400000e+03, -1.72407072e+05, -4.92931311e+07,\n",
       "       -3.90488955e+10, -8.74146565e+13, -5.39897593e+17, -9.17337437e+21,\n",
       "       -4.23015896e+26, -5.25120911e+31, -1.71376995e+37, -1.48102953e+43,\n",
       "       -3.37636741e+49, -2.02591663e+56, -3.13140540e+63, -1.25843379e+71,\n",
       "       -1.30732026e+79])"
      ]
     },
     "execution_count": 417,
     "metadata": {},
     "output_type": "execute_result"
    }
   ],
   "source": [
    "np.array(val[:21]) - np.array(cn)"
   ]
  },
  {
   "cell_type": "code",
   "execution_count": 24,
   "metadata": {},
   "outputs": [
    {
     "data": {
      "text/plain": [
       "array([1.00000000e+00, 4.00000000e+00, 1.20000000e+01, 3.60000000e+01,\n",
       "       9.94752000e+01, 2.83564005e+02, 7.77248938e+02, 2.15981935e+03,\n",
       "       5.87298077e+03, 1.60344121e+04, 4.27669840e+04, 1.14846459e+05,\n",
       "       3.03447313e+05, 8.01404355e+05, 2.08894059e+06, 5.45944623e+06,\n",
       "       1.40138525e+07, 3.58516389e+07, 9.08623937e+07, 2.29927287e+08,\n",
       "       5.77508368e+08, 1.43788033e+09, 3.55142064e+09, 8.74217704e+09,\n",
       "       2.12810816e+10, 5.13235844e+10, 1.22345161e+11, 2.90753274e+11,\n",
       "       6.82194407e+11, 1.58671597e+12, 3.66214046e+12, 8.37348416e+12,\n",
       "       1.89584055e+13, 4.24554533e+13, 9.40345834e+13, 2.07656571e+14,\n",
       "       4.52795152e+14, 9.81750449e+14, 2.11370872e+15, 4.51699553e+15,\n",
       "       9.61081138e+15, 2.01817428e+16, 4.21314063e+16, 8.68496810e+16,\n",
       "       1.77390473e+17, 3.58843189e+17, 7.17829915e+17, 1.42187749e+18,\n",
       "       2.76711579e+18, 5.37373887e+18, 1.03379988e+19])"
      ]
     },
     "execution_count": 24,
     "metadata": {},
     "output_type": "execute_result"
    }
   ],
   "source": [
    "cn"
   ]
  },
  {
   "cell_type": "code",
   "execution_count": 23,
   "metadata": {},
   "outputs": [
    {
     "data": {
      "text/plain": [
       "1.895840549256494"
      ]
     },
     "execution_count": 23,
     "metadata": {},
     "output_type": "execute_result"
    }
   ],
   "source": [
    "cn[32]/10**13"
   ]
  },
  {
   "cell_type": "code",
   "execution_count": null,
   "metadata": {},
   "outputs": [],
   "source": []
  }
 ],
 "metadata": {
  "kernelspec": {
   "display_name": "Python 3",
   "language": "python",
   "name": "python3"
  },
  "language_info": {
   "codemirror_mode": {
    "name": "ipython",
    "version": 3
   },
   "file_extension": ".py",
   "mimetype": "text/x-python",
   "name": "python",
   "nbconvert_exporter": "python",
   "pygments_lexer": "ipython3",
   "version": "3.7.0"
  }
 },
 "nbformat": 4,
 "nbformat_minor": 4
}
