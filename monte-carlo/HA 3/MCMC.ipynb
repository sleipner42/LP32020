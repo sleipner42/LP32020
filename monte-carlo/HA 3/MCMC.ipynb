{
 "cells": [
  {
   "cell_type": "code",
   "execution_count": 28,
   "metadata": {},
   "outputs": [],
   "source": [
    "import pandas as pd\n",
    "import numpy as np\n",
    "from numpy import genfromtxt\n",
    "from scipy.stats import gamma\n"
   ]
  },
  {
   "cell_type": "code",
   "execution_count": 32,
   "metadata": {},
   "outputs": [],
   "source": [
    "disasters = genfromtxt('disasters.csv', delimiter = ',')\n",
    "\n",
    "def init_mcmc(num_breakpoints, psi):\n",
    "    \n",
    "    #Generating priors\n",
    "    hyperprior = gamma(2, psi)\n",
    "    theta = hyperprior.rvs(1)\n",
    "    prior_intensity = gamma(2, hyperprior)\n",
    "    \n",
    "    #Prior for t is a logic statement\n",
    "    # If t is sorted the prior is equal to the sumproduct of differences\n",
    "    # returns zero if not sorted\n",
    "    prior_t = lambda x: np.prod(np.diff(x)) if np.all(x[:-1] <= x[1:]) else 0\n",
    "    \n",
    "    #Initialize arrays\n",
    "    lambdas = np.zeros(num_breakpoints)\n",
    "    t = np.zeros(num_breakpoints + 1)\n",
    "    t[0] = 1658\n",
    "    t[-1] = 1980\n",
    "    tau = disasters\n",
    "    \n",
    "    \n",
    "    #TODO\n",
    "    #MCMC sample breakpoints t\n",
    "    \n",
    "    #Num incidents per interval\n",
    "    #nt = numpy.histogram(tau, bins = d)\n",
    "    \n",
    "    \n",
    "    #update lambdas with correct intensities\n",
    "    "
   ]
  },
  {
   "cell_type": "code",
   "execution_count": null,
   "metadata": {},
   "outputs": [],
   "source": []
  },
  {
   "cell_type": "code",
   "execution_count": null,
   "metadata": {},
   "outputs": [],
   "source": []
  },
  {
   "cell_type": "code",
   "execution_count": null,
   "metadata": {},
   "outputs": [],
   "source": []
  }
 ],
 "metadata": {
  "kernelspec": {
   "display_name": "Python 3.8.1 64-bit",
   "language": "python",
   "name": "python38164bit45d99a14a29047d0bd4fa12fbfa465d1"
  },
  "language_info": {
   "codemirror_mode": {
    "name": "ipython",
    "version": 3
   },
   "file_extension": ".py",
   "mimetype": "text/x-python",
   "name": "python",
   "nbconvert_exporter": "python",
   "pygments_lexer": "ipython3",
   "version": "3.8.1"
  }
 },
 "nbformat": 4,
 "nbformat_minor": 4
}
