{
 "cells": [
  {
   "cell_type": "code",
   "execution_count": 2,
   "metadata": {},
   "outputs": [],
   "source": [
    "import pandas as pd\n",
    "import numpy as np\n",
    "import matplotlib.pyplot as plt\n",
    "from numpy import genfromtxt\n",
    "from scipy.stats import gamma, uniform"
   ]
  },
  {
   "cell_type": "code",
   "execution_count": 3,
   "metadata": {},
   "outputs": [],
   "source": [
    "disasters = genfromtxt('disasters.csv', delimiter = ',')\n",
    "\n",
    "#Calculate transition probability, based on random walk proposal\n",
    "def calc_probability_random_walk(tau, breakpoints_current, breakpoints_propose, labda):\n",
    "    if np.all(breakpoints_propose[:-1] < breakpoints_propose[1:]) or np.all(breakpoints_current[:-1] < breakpoints_current[1:]):\n",
    "        return 0\n",
    "    else:\n",
    "        nt_current = np.histogram(tau, bins = breakpoints_current)[0].astype('int32')\n",
    "        nt_propose = np.histogram(tau, bins = breakpoints_propose)[0].astype('int32')\n",
    "        \n",
    "        log_prob_current = -np.sum(lambdas*np.diff(breakpoints_current)) + np.sum(nt_current*np.log(labda))\n",
    "        log_prob_propose = -np.sum(lambdas*np.diff(breakpoints_propose)) + np.sum(nt_propose*np.log(labda))\n",
    "        \n",
    "        return np.exp(log_prob_propose - log_prob_current)\n",
    "\n",
    "#Propose moving one single breakpoint\n",
    "def proposal_random_walk(breakpoints, index, rho):\n",
    "    ti = breakpoints[index]\n",
    "    R = rho*(breakpoints[index+1] - breakpoints[index-1])\n",
    "    epsilon = np.random.uniform(-R, R)\n",
    "    ti_proposal = ti+epsilon\n",
    "\n",
    "    breakpoints_propose = np.copy(breakpoints)\n",
    "    breakpoints_propose[index] = ti_proposal\n",
    "    \n",
    "    return breakpoints_propose\n",
    "\n",
    "def sample_lambda(tau, theta, t, num_berakpoints):\n",
    "    #code here\n",
    "    \n",
    "    return theta\n",
    "    \n",
    "def sample_theta(tau, labda, t, num_breakpoints):\n",
    "    #code here\n",
    "    \n",
    "    return labda\n",
    "    \n",
    "    \n",
    "def init_mcmc(N, num_breakpoints, psi, rho, burn_in = 0, print_debug = False):\n",
    "    \n",
    "    #Initial burn in attempts if needed\n",
    "    M = N + burn_in\n",
    "    \n",
    "    #Initialize arrays\n",
    "    breakpoints = np.zeros((M, num_breakpoints + 2))\n",
    "    breakpoints[0] = np.arange(1658,1981, (1980-1658)/(num_breakpoints+1))\n",
    "    tau = disasters  \n",
    "\n",
    "    #Arrays to save values of lambda and theta\n",
    "    lambdas = np.zeros((M, num_breakpoints + 1))\n",
    "    thetas = np.zeros((M, num_breakpoints + 1))\n",
    "    \n",
    "    #Array to save MH probability\n",
    "    probs = np.zeros(M)\n",
    "    \n",
    "    #Initialize theta and lambda by prior distribution\n",
    "    thetas[0] = gamma(2, psi).rvs(num_breakpoints + 1)\n",
    "    for interval in range(num_breakpoints + 1):\n",
    "        lambdas[0, interval] = gamma(2, thetas[0, interval]).rvs(1)\n",
    "    \n",
    "    #Main loop\n",
    "    for index in range(M - 1):\n",
    "        \n",
    "        #Gibbs sampling\n",
    "        thetas[index + 1] = sample_theta(tau, thetas[index], breakpoints[index], num_breakpoints)\n",
    "        lambdas[index + 1] = sample_lambda(tau, lambdas[index], breakpoints[index], num_breakpoints)\n",
    "            \n",
    "        if print_debug:\n",
    "            print(f'Iter: {index}')\n",
    "            print(f' Theta: {thetas[index]}')\n",
    "            print(f' Lambda: {lambdas[index]}')\n",
    "        \n",
    "        \n",
    "        #Random walk proposal for breakpoints (MH Sampling)\n",
    "        breakpoints_propose = np.copy(breakpoints[index])\n",
    "        \n",
    "        #Propose one breakpoint at a time\n",
    "        for t in np.arange(num_breakpoints) + 1:\n",
    "            \n",
    "            #Propose new breakpoint\n",
    "            breakpoints_propose = proposal_random_walk(breakpoints_propose, t, rho)\n",
    "\n",
    "        #Probability of accept\n",
    "        probs[index] = calc_probability_random_walk(tau, breakpoints[index], breakpoints_propose, lambdas[index])\n",
    "\n",
    "        accept = np.random.uniform(0,1) < probs[index]\n",
    "\n",
    "        if print_debug:\n",
    "            print(f'Breakpoint {t}')\n",
    "            print(f' Current breakpoints: {breakpoints}')\n",
    "            print(f' Proposed breakpoints: {breakpoints_propose}')\n",
    "            print(f' P(accept) = {p_accept}')\n",
    "            print(f' Accept: {accept}')\n",
    "\n",
    "        if accept:\n",
    "            breakpoints[index + 1] = np.copy(breakpoints_propose)\n",
    "        else:\n",
    "            breakpoints[index+1] = np.copy(breakpoints[index])\n",
    "\n",
    "    return breakpoints, lambdas, probs\n",
    "    "
   ]
  },
  {
   "cell_type": "code",
   "execution_count": 4,
   "metadata": {},
   "outputs": [
    {
     "data": {
      "text/plain": [
       "[<matplotlib.lines.Line2D at 0x26e437ac9d0>]"
      ]
     },
     "execution_count": 4,
     "metadata": {},
     "output_type": "execute_result"
    },
    {
     "data": {
      "image/png": "[encoded data removed]",
      "text/plain": [
       "<Figure size 432x288 with 1 Axes>"
      ]
     },
     "metadata": {
      "needs_background": "light"
     },
     "output_type": "display_data"
    }
   ],
   "source": [
    "breakpoints, lambdas, probs = init_mcmc(N = 10**4, num_breakpoints = 2, psi = 0.001, rho = 0.5, print_debug = False)\n",
    "plt.plot(probs)"
   ]
  },
  {
   "cell_type": "code",
   "execution_count": 35,
   "metadata": {},
   "outputs": [
    {
     "data": {
      "image/png": "[encoded data removed]",
      "text/plain": [
       "<Figure size 432x288 with 1 Axes>"
      ]
     },
     "metadata": {
      "needs_background": "light"
     },
     "output_type": "display_data"
    }
   ],
   "source": [
    "_ = plt.hist(disasters, bins = 'auto')"
   ]
  },
  {
   "cell_type": "code",
   "execution_count": null,
   "metadata": {},
   "outputs": [],
   "source": []
  },
  {
   "cell_type": "code",
   "execution_count": null,
   "metadata": {},
   "outputs": [],
   "source": []
  },
  {
   "cell_type": "code",
   "execution_count": null,
   "metadata": {},
   "outputs": [],
   "source": []
  },
  {
   "cell_type": "code",
   "execution_count": null,
   "metadata": {},
   "outputs": [],
   "source": []
  },
  {
   "cell_type": "code",
   "execution_count": null,
   "metadata": {},
   "outputs": [],
   "source": []
  },
  {
   "cell_type": "code",
   "execution_count": null,
   "metadata": {},
   "outputs": [],
   "source": []
  }
 ],
 "metadata": {
  "kernelspec": {
   "display_name": "Python 3.8.1 64-bit",
   "language": "python",
   "name": "python38164bit45d99a14a29047d0bd4fa12fbfa465d1"
  },
  "language_info": {
   "codemirror_mode": {
    "name": "ipython",
    "version": 3
   },
   "file_extension": ".py",
   "mimetype": "text/x-python",
   "name": "python",
   "nbconvert_exporter": "python",
   "pygments_lexer": "ipython3",
   "version": "3.8.1"
  }
 },
 "nbformat": 4,
 "nbformat_minor": 4
}
