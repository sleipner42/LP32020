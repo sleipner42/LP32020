{
 "cells": [
  {
   "cell_type": "code",
   "execution_count": 10,
   "metadata": {},
   "outputs": [],
   "source": [
    "import pandas as pd\n",
    "import numpy as np\n",
    "import matplotlib.pyplot as plt\n",
    "from numpy import genfromtxt\n",
    "from scipy.stats import gamma, uniform\n"
   ]
  },
  {
   "cell_type": "code",
   "execution_count": 226,
   "metadata": {},
   "outputs": [],
   "source": [
    "disasters = genfromtxt('disasters.csv', delimiter = ',')\n",
    "\n",
    "def init_mcmc(N, num_breakpoints, psi, rho):\n",
    "\n",
    "    \n",
    "    #Prior for t is a logic statement\n",
    "    # If t is sorted the prior is proportional to the sumproduct of differences\n",
    "    # returns zero if not sorted\n",
    "    prior_t_log = lambda t: np.sum(np.log(np.diff(t))) if np.all(t[:-1] <= t[1:]) else 0\n",
    "    \n",
    "    #The probability of tau given parameters\n",
    "    f_tau_log = lambda t, lambdas, nt: -np.sum(np.diff(t)*lambdas) + np.sum(nt*np.log(lambdas))\n",
    "    \n",
    "    #Initialize arrays\n",
    "    breakpoints = np.arange(1658,1981, (1980-1658)/(num_breakpoints+1))\n",
    "    tau = disasters\n",
    "    \n",
    "    burn_in = 0\n",
    "    M = N + burn_in\n",
    "\n",
    "    lambdas = np.zeros((M, num_breakpoints + 1))\n",
    "    thetas = np.zeros((M, num_breakpoints + 1))\n",
    "    \n",
    "    prob_breakpoints = np.zeros((M, num_breakpoints))\n",
    "    \n",
    "\n",
    "    for index in range(M):\n",
    "        print(f'Iter: {index}')\n",
    "        thetas[index] = gamma(2, psi).rvs(num_breakpoints + 1)\n",
    "        for section in range(num_breakpoints + 1):\n",
    "            lambdas[index, section] = gamma(2, thetas[index, section]).rvs(1)\n",
    "\n",
    "        print(f' Theta: {thetas[index]}')\n",
    "        print(f' Lambda: {lambdas[index]}')\n",
    "        #Random walk proposal\n",
    "        for t in np.arange(num_breakpoints) + 1:\n",
    "            print(f'Breakpoint {t}')\n",
    "            \n",
    "            ti = breakpoints[t]\n",
    "            R = rho*(breakpoints[t+1] - breakpoints[t-1])\n",
    "            epsilon = np.random.uniform(-R, R)\n",
    "            ti_proposal = ti+epsilon\n",
    "            breakpoints_propose = np.copy(breakpoints)\n",
    "            breakpoints_propose[t] = ti_proposal\n",
    "            \n",
    "            print(f' Current breakpoints: {breakpoints}')\n",
    "            print(f' Proposed breakpoints: {breakpoints_propose}')\n",
    "            \n",
    "            if(np.all(breakpoints_propose[:-1] <= breakpoints_propose[1:])):\n",
    "            \n",
    "                #Num incidents per interval\n",
    "                nt_current = np.histogram(tau, bins = breakpoints)[0].astype('int32')\n",
    "                print(f'nt current: {nt_current}')\n",
    "                nt_propose = np.histogram(tau, bins = breakpoints_propose)[0].astype('int32')\n",
    "                print(f'nt propose: {nt_propose}')\n",
    "                \n",
    "                \n",
    "                #Probability of accept\n",
    "                p_propose_log = prior_t_log(breakpoints_propose) + f_tau_log(breakpoints_propose, lambdas, nt_propose)\n",
    "                print(f'p propose: {np.exp(p_propose_log)}')\n",
    "                p_current_log = prior_t_log(breakpoints) + f_tau_log(breakpoints, lambdas, nt_current)\n",
    "                print(f'p current: {np.exp(p_current_log)}')\n",
    "                p_accept = np.minimum(1, np.exp(p_propose_log-p_current_log))\n",
    "\n",
    "                accept = uniform(0,1).rvs() < p_accept\n",
    "                print(f' P(accept) = {p_accept}')\n",
    "\n",
    "                if accept:\n",
    "                    breakpoints = breakpoints_propose\n",
    "\n",
    "    return breakpoints\n",
    "    "
   ]
  },
  {
   "cell_type": "code",
   "execution_count": 240,
   "metadata": {},
   "outputs": [
    {
     "data": {
      "text/plain": [
       "1.1179667077833884e-110"
      ]
     },
     "execution_count": 240,
     "metadata": {},
     "output_type": "execute_result"
    }
   ],
   "source": [
    "init_mcmc(2, 1, 0.01, 0.5)"
   ]
  },
  {
   "cell_type": "code",
   "execution_count": null,
   "metadata": {},
   "outputs": [],
   "source": []
  },
  {
   "cell_type": "code",
   "execution_count": 113,
   "metadata": {},
   "outputs": [
    {
     "data": {
      "text/plain": [
       "array([ 79, 672])"
      ]
     },
     "execution_count": 113,
     "metadata": {},
     "output_type": "execute_result"
    }
   ],
   "source": [
    "num_breakpoints = 1\n",
    "breakpoints = np.arange(1658,1981, (1980-1658)/(num_breakpoints+1))\n",
    "nt = np.histogram(disasters, bins = breakpoints)[0].astype('int32')\n",
    "lambdas = np.array([1, 2])"
   ]
  },
  {
   "cell_type": "code",
   "execution_count": 163,
   "metadata": {},
   "outputs": [
    {
     "data": {
      "text/plain": [
       "array([1658., 1819., 1980.])"
      ]
     },
     "execution_count": 163,
     "metadata": {},
     "output_type": "execute_result"
    }
   ],
   "source": [
    "np.arange(1658,1981, (1980-1658)/(num_breakpoints+1))"
   ]
  },
  {
   "cell_type": "code",
   "execution_count": 174,
   "metadata": {},
   "outputs": [
    {
     "data": {
      "text/plain": [
       "array([0])"
      ]
     },
     "execution_count": 174,
     "metadata": {},
     "output_type": "execute_result"
    }
   ],
   "source": [
    "np.arange(1)"
   ]
  }
 ],
 "metadata": {
  "kernelspec": {
   "display_name": "Python 3.8.1 64-bit",
   "language": "python",
   "name": "python38164bit45d99a14a29047d0bd4fa12fbfa465d1"
  },
  "language_info": {
   "codemirror_mode": {
    "name": "ipython",
    "version": 3
   },
   "file_extension": ".py",
   "mimetype": "text/x-python",
   "name": "python",
   "nbconvert_exporter": "python",
   "pygments_lexer": "ipython3",
   "version": "3.8.1"
  }
 },
 "nbformat": 4,
 "nbformat_minor": 4
}
