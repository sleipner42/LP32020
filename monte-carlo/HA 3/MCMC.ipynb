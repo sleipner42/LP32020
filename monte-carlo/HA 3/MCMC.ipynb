{
 "cells": [
  {
   "cell_type": "code",
   "execution_count": 72,
   "metadata": {},
   "outputs": [],
   "source": [
    "import pandas as pd\n",
    "import numpy as np\n",
    "import matplotlib.pyplot as plt\n",
    "from numpy import genfromtxt\n",
    "from scipy.stats import gamma, uniform"
   ]
  },
  {
   "cell_type": "code",
   "execution_count": 76,
   "metadata": {},
   "outputs": [],
   "source": [
    "disasters = genfromtxt('disasters.csv', delimiter = ',')\n",
    "\n",
    "def init_mcmc(N, num_breakpoints, psi, rho, print_debug = False):\n",
    "\n",
    "    \n",
    "    #log-probability of t\n",
    "    prior_t_log = lambda t: np.sum(np.log(np.diff(t))) if np.all(t[:-1] <= t[1:]) else 0\n",
    "    \n",
    "    #The log-probability of tau given parameters\n",
    "    f_tau_log = lambda t, lambdas, nt: -np.sum(np.diff(t)*lambdas) + np.sum(nt*np.log(lambdas))\n",
    "    \n",
    "    #Initialize arrays\n",
    "    breakpoints = np.arange(1658,1981, (1980-1658)/(num_breakpoints+1))\n",
    "    tau = disasters\n",
    "    \n",
    "    #Initial burn in attempts if needed\n",
    "    burn_in = 0\n",
    "    M = N + burn_in\n",
    "\n",
    "    #Arrays to save values of lambda and theta\n",
    "    lambdas = np.zeros((M, num_breakpoints + 1))\n",
    "    thetas = np.zeros((M, num_breakpoints + 1))\n",
    "    \n",
    "    #Main loop\n",
    "    for index in range(M):\n",
    "        \n",
    "        #Theta is independent, sample one theta for each interval\n",
    "        thetas[index] = gamma(2, psi).rvs(num_breakpoints + 1)\n",
    "        for section in range(num_breakpoints + 1):\n",
    "            lambdas[index, section] = gamma(2, thetas[index, section]).rvs(1)\n",
    "            \n",
    "        if print_debug:\n",
    "            print(f'Iter: {index}')\n",
    "            print(f' Theta: {thetas[index]}')\n",
    "            print(f' Lambda: {lambdas[index]}')\n",
    "            \n",
    "        #Random walk proposal for breakpoints\n",
    "        for t in np.arange(num_breakpoints) + 1:\n",
    "            \n",
    "            ti = breakpoints[t]\n",
    "            R = rho*(breakpoints[t+1] - breakpoints[t-1])\n",
    "            epsilon = np.random.uniform(-R, R)\n",
    "            ti_proposal = ti+epsilon\n",
    "            \n",
    "            #Proposed array of breakpoints\n",
    "            breakpoints_propose = np.copy(breakpoints)\n",
    "            breakpoints_propose[t] = ti_proposal\n",
    "\n",
    "            # If breakpoints are not sorted the probability is zero\n",
    "            if(np.all(breakpoints_propose[:-1] <= breakpoints_propose[1:])):\n",
    "            \n",
    "                #Num incidents per interval\n",
    "                nt_current = np.histogram(tau, bins = breakpoints)[0].astype('int32')\n",
    "                nt_propose = np.histogram(tau, bins = breakpoints_propose)[0].astype('int32')\n",
    "                    \n",
    "                \n",
    "                \n",
    "                #log-Probability of proposed breakpoints\n",
    "                p_propose = np.exp(prior_t_log(breakpoints_propose) + f_tau_log(breakpoints_propose, lambdas[index], nt_propose))\n",
    "                \n",
    "                #log-Probability of current breakpoints\n",
    "                p_current = np.exp(prior_t_log(breakpoints) + f_tau_log(breakpoints, lambdas[index], nt_current))\n",
    "                \n",
    "                #Probability of accept\n",
    "                p_accept = np.minimum(1, p_propose/p_current)\n",
    "                \n",
    "            else:\n",
    "                p_accept = 0\n",
    "                         \n",
    "            accept = np.random.uniform(0,1) < p_accept\n",
    "            \n",
    "            if print_debug:\n",
    "                print(f'Breakpoint {t}')\n",
    "                print(f' Current breakpoints: {breakpoints}')\n",
    "                print(f' Proposed breakpoints: {breakpoints_propose}')\n",
    "                print(f'nt current: {nt_current}')\n",
    "                print(f'nt propose: {nt_propose}')\n",
    "                print(f'p current: {p_current}')\n",
    "                print(f'p propose: {p_propose}')\n",
    "                print(f' P(accept) = {p_accept}')\n",
    "                print(f' Accept: {accept}')\n",
    "\n",
    "            if accept:\n",
    "                breakpoints = np.copy(breakpoints_propose)\n",
    "\n",
    "    return breakpoints\n",
    "    "
   ]
  },
  {
   "cell_type": "code",
   "execution_count": 103,
   "metadata": {},
   "outputs": [
    {
     "name": "stderr",
     "output_type": "stream",
     "text": [
      "<ipython-input-76-4bbd85c26dc3>:65: RuntimeWarning: divide by zero encountered in double_scalars\n",
      "  p_accept = np.minimum(1, p_propose/p_current)\n",
      "<ipython-input-76-4bbd85c26dc3>:65: RuntimeWarning: invalid value encountered in double_scalars\n",
      "  p_accept = np.minimum(1, p_propose/p_current)\n"
     ]
    }
   ],
   "source": [
    "n = 100\n",
    "d = 5\n",
    "breakpoints_all = np.zeros((n, d+2))\n",
    "for i in range(n):\n",
    "    breakpoints_all[i] = init_mcmc(N = 10**2, num_breakpoints = d, psi = 0.001, rho = 0.5, print_debug = False)"
   ]
  },
  {
   "cell_type": "code",
   "execution_count": 105,
   "metadata": {},
   "outputs": [
    {
     "name": "stdout",
     "output_type": "stream",
     "text": [
      "[1658.         1721.48343786 1777.05957874 1830.23117655 1877.54726607\n",
      " 1929.5287335  1980.        ]\n",
      "[0.00000000e+00 1.02665720e+01 1.12055462e+01 1.08715109e+01\n",
      " 1.03842855e+01 7.83913013e+00 4.45652404e-14]\n"
     ]
    },
    {
     "data": {
      "text/plain": [
       "array([63.48343786, 55.57614088, 53.17159781, 47.31608952, 51.98146743,\n",
       "       50.4712665 ])"
      ]
     },
     "execution_count": 105,
     "metadata": {},
     "output_type": "execute_result"
    }
   ],
   "source": [
    "mean = np.mean(breakpoints_all, axis = 0)\n",
    "var = np.var(breakpoints_all, axis = 0)\n",
    "interval = 1.96*np.sqrt(var/n)\n",
    "print(mean)\n",
    "print(interval)\n",
    "np.diff(mean)"
   ]
  },
  {
   "cell_type": "code",
   "execution_count": 100,
   "metadata": {},
   "outputs": [
    {
     "data": {
      "image/png": "[encoded data removed]",
      "text/plain": [
       "<Figure size 432x288 with 1 Axes>"
      ]
     },
     "metadata": {
      "needs_background": "light"
     },
     "output_type": "display_data"
    }
   ],
   "source": [
    "_ = plt.hist(disasters, bins = 50)"
   ]
  },
  {
   "cell_type": "code",
   "execution_count": 52,
   "metadata": {},
   "outputs": [
    {
     "data": {
      "text/plain": [
       "0.1353352832366127"
      ]
     },
     "execution_count": 52,
     "metadata": {},
     "output_type": "execute_result"
    }
   ],
   "source": []
  },
  {
   "cell_type": "code",
   "execution_count": 49,
   "metadata": {},
   "outputs": [
    {
     "data": {
      "text/plain": [
       "793.0260852492054"
      ]
     },
     "execution_count": 49,
     "metadata": {},
     "output_type": "execute_result"
    }
   ],
   "source": [
    "np.sum(nt*np.log(lambdas))"
   ]
  },
  {
   "cell_type": "code",
   "execution_count": 50,
   "metadata": {},
   "outputs": [
    {
     "data": {
      "text/plain": [
       "array([ 79, 672])"
      ]
     },
     "execution_count": 50,
     "metadata": {},
     "output_type": "execute_result"
    }
   ],
   "source": [
    "nt"
   ]
  },
  {
   "cell_type": "code",
   "execution_count": 51,
   "metadata": {},
   "outputs": [
    {
     "data": {
      "text/plain": [
       "array([0.69314718, 1.09861229])"
      ]
     },
     "execution_count": 51,
     "metadata": {},
     "output_type": "execute_result"
    }
   ],
   "source": [
    "np.log(lambdas)"
   ]
  },
  {
   "cell_type": "code",
   "execution_count": null,
   "metadata": {},
   "outputs": [],
   "source": []
  }
 ],
 "metadata": {
  "kernelspec": {
   "display_name": "Python 3.8.1 64-bit",
   "language": "python",
   "name": "python38164bit45d99a14a29047d0bd4fa12fbfa465d1"
  },
  "language_info": {
   "codemirror_mode": {
    "name": "ipython",
    "version": 3
   },
   "file_extension": ".py",
   "mimetype": "text/x-python",
   "name": "python",
   "nbconvert_exporter": "python",
   "pygments_lexer": "ipython3",
   "version": "3.8.1"
  }
 },
 "nbformat": 4,
 "nbformat_minor": 4
}
